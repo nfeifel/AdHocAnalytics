{
 "cells": [
  {
   "cell_type": "code",
   "execution_count": 1089,
   "metadata": {},
   "outputs": [],
   "source": [
    "import pandas as pd\n",
    "import numpy as np\n",
    "import json\n",
    "import requests\n",
    "import webbrowser\n",
    "import datetime\n",
    "import matplotlib.pyplot as plt"
   ]
  },
  {
   "cell_type": "code",
   "execution_count": 1048,
   "metadata": {},
   "outputs": [
    {
     "name": "stdout",
     "output_type": "stream",
     "text": [
      "/Users/talilaserson/dev/repos/ml_dev/projects/strava\n"
     ]
    }
   ],
   "source": [
    "%cd ~/dev/repos/ml_dev/projects/strava/"
   ]
  },
  {
   "cell_type": "markdown",
   "metadata": {},
   "source": [
    "# global variables #"
   ]
  },
  {
   "cell_type": "code",
   "execution_count": 1163,
   "metadata": {},
   "outputs": [
    {
     "data": {
      "text/plain": [
       "Timestamp('2020-05-04 00:00:00')"
      ]
     },
     "execution_count": 1163,
     "metadata": {},
     "output_type": "execute_result"
    }
   ],
   "source": [
    "today_date = pd.to_datetime(pd.to_datetime(\"today\").strftime('%Y-%m-%d'))\n",
    "today_date"
   ]
  },
  {
   "cell_type": "markdown",
   "metadata": {},
   "source": [
    "# url / api setup and  management #"
   ]
  },
  {
   "cell_type": "code",
   "execution_count": 1049,
   "metadata": {},
   "outputs": [],
   "source": [
    "## fixed variables ##\n",
    "\n",
    "# account attributes\n",
    "client_id = 47024\n",
    "client_secret = '3f400090c567b1daf4f636ae5353cdd1f08510e8'\n",
    "athlete_id = '49503364'\n",
    "# athlete_id = '49502501'\n",
    "\n",
    "# url components\n",
    "base = 'https://www.strava.com/api/v3/'\n",
    "request_type_profile = 'athletes'\n",
    "request_type_activies = 'athlete/activities'\n",
    "request_type_clubs = 'clubs/575016/activities'\n"
   ]
  },
  {
   "cell_type": "code",
   "execution_count": 1044,
   "metadata": {},
   "outputs": [
    {
     "data": {
      "text/plain": [
       "True"
      ]
     },
     "execution_count": 1044,
     "metadata": {},
     "output_type": "execute_result"
    }
   ],
   "source": [
    "# get code #\n",
    "\n",
    "# access_token management resources:\n",
    "### 1) https://yizeng.me/2017/01/11/get-a-strava-api-access-token-with-write-permission/\n",
    "### 2) http://developers.strava.com/docs/authentication/\n",
    "\n",
    "url = 'http://www.strava.com/oauth/authorize?client_id=47024&response_type=code&redirect_uri=http://localhost/exchange_token&approval_prompt=force&scope=profile:read_all,activity:read_all'\n",
    "                \n",
    "webbrowser.open(url)"
   ]
  },
  {
   "cell_type": "code",
   "execution_count": 1050,
   "metadata": {},
   "outputs": [],
   "source": [
    "## declare code ##\n",
    "code = '7633a68feedaa68b0f28f96878b8f40373ae0aff'"
   ]
  },
  {
   "cell_type": "code",
   "execution_count": 1051,
   "metadata": {},
   "outputs": [
    {
     "name": "stdout",
     "output_type": "stream",
     "text": [
      "{\"token_type\":\"Bearer\",\"expires_at\":1588659565,\"expires_in\":21600,\"refresh_token\":\"0cdfbcf12759af8c0be8f3d775450ae916457891\",\"access_token\":\"190bdf01b923f5ac595a1ba5cb4223d3978490fb\",\"athlete\":{\"id\":49503364,\"username\":null,\"resource_state\":2,\"firstname\":\"N\",\"lastname\":\"F\",\"city\":null,\"state\":null,\"country\":null,\"sex\":\"M\",\"premium\":false,\"summit\":false,\"created_at\":\"2020-01-02T17:12:40Z\",\"updated_at\":\"2020-04-30T11:51:35Z\",\"badge_type_id\":0,\"profile_medium\":\"avatar/athlete/medium.png\",\"profile\":\"avatar/athlete/large.png\",\"friend\":null,\"follower\":null}}"
     ]
    },
    {
     "name": "stderr",
     "output_type": "stream",
     "text": [
      "  % Total    % Received % Xferd  Average Speed   Time    Time     Time  Current\n",
      "                                 Dload  Upload   Total   Spent    Left  Speed\n",
      "\r",
      "  0     0    0     0    0     0      0      0 --:--:-- --:--:-- --:--:--     0\r",
      "100   704    0   558  100   146    811    212 --:--:-- --:--:-- --:--:--   812\n"
     ]
    }
   ],
   "source": [
    "%%bash\n",
    "curl -X POST https://www.strava.com/api/v3/oauth/token \\\n",
    "  -d client_id=47024 \\\n",
    "  -d client_secret=3f400090c567b1daf4f636ae5353cdd1f08510e8 \\\n",
    "  -d code=7633a68feedaa68b0f28f96878b8f40373ae0aff \\\n",
    "  -d grant_type=authorization_code"
   ]
  },
  {
   "cell_type": "code",
   "execution_count": 1052,
   "metadata": {},
   "outputs": [
    {
     "name": "stdout",
     "output_type": "stream",
     "text": [
      "{\"token_type\":\"Bearer\",\"access_token\":\"190bdf01b923f5ac595a1ba5cb4223d3978490fb\",\"expires_at\":1588659565,\"expires_in\":21581,\"refresh_token\":\"0cdfbcf12759af8c0be8f3d775450ae916457891\"}"
     ]
    },
    {
     "name": "stderr",
     "output_type": "stream",
     "text": [
      "  % Total    % Received % Xferd  Average Speed   Time    Time     Time  Current\n",
      "                                 Dload  Upload   Total   Spent    Left  Speed\n",
      "\r",
      "  0     0    0     0    0     0      0      0 --:--:-- --:--:-- --:--:--     0\r",
      "100   333    0   183  100   150    269    221 --:--:-- --:--:-- --:--:--   270\n"
     ]
    }
   ],
   "source": [
    "# %%bash\n",
    "# curl -X POST https://www.strava.com/api/v3/oauth/token \\\n",
    "#   -d client_id=47024 \\\n",
    "#   -d client_secret=3f400090c567b1daf4f636ae5353cdd1f08510e8 \\\n",
    "#   -d grant_type=refresh_token \\\n",
    "#   -d refresh_token=0cdfbcf12759af8c0be8f3d775450ae916457891"
   ]
  },
  {
   "cell_type": "code",
   "execution_count": 1053,
   "metadata": {},
   "outputs": [],
   "source": [
    "# decalre access token #\n",
    "\n",
    "access_token = '190bdf01b923f5ac595a1ba5cb4223d3978490fb'"
   ]
  },
  {
   "cell_type": "markdown",
   "metadata": {},
   "source": [
    "# profile #"
   ]
  },
  {
   "cell_type": "code",
   "execution_count": 1054,
   "metadata": {},
   "outputs": [
    {
     "name": "stdout",
     "output_type": "stream",
     "text": [
      "https://www.strava.com/api/v3/athletes/49503364/?access_token=190bdf01b923f5ac595a1ba5cb4223d3978490fb\n"
     ]
    }
   ],
   "source": [
    "# profile url\n",
    "url_profile = base + request_type_profile + '/' +  athlete_id + '/?access_token=' + access_token\n",
    "print(url_profile)"
   ]
  },
  {
   "cell_type": "code",
   "execution_count": 1055,
   "metadata": {},
   "outputs": [
    {
     "data": {
      "text/plain": [
       "{'id': 49503364,\n",
       " 'username': None,\n",
       " 'resource_state': 3,\n",
       " 'firstname': 'N',\n",
       " 'lastname': 'F',\n",
       " 'city': None,\n",
       " 'state': None,\n",
       " 'country': None,\n",
       " 'sex': 'M',\n",
       " 'premium': False,\n",
       " 'summit': False,\n",
       " 'created_at': '2020-01-02T17:12:40Z',\n",
       " 'updated_at': '2020-04-30T11:51:35Z',\n",
       " 'badge_type_id': 0,\n",
       " 'profile_medium': 'avatar/athlete/medium.png',\n",
       " 'profile': 'avatar/athlete/large.png',\n",
       " 'friend': None,\n",
       " 'follower': None,\n",
       " 'follower_count': 4,\n",
       " 'friend_count': 4,\n",
       " 'mutual_friend_count': 0,\n",
       " 'athlete_type': 1,\n",
       " 'date_preference': '%m/%d/%Y',\n",
       " 'measurement_preference': 'feet',\n",
       " 'clubs': [{'id': 575016,\n",
       "   'resource_state': 2,\n",
       "   'name': 'LaserSons 365',\n",
       "   'profile_medium': 'https://dgalywyr863hv.cloudfront.net/pictures/clubs/575016/13378918/2/medium.jpg',\n",
       "   'profile': 'https://dgalywyr863hv.cloudfront.net/pictures/clubs/575016/13378918/2/large.jpg',\n",
       "   'cover_photo': 'https://dgalywyr863hv.cloudfront.net/pictures/clubs/575016/13378952/2/large.jpg',\n",
       "   'cover_photo_small': 'https://dgalywyr863hv.cloudfront.net/pictures/clubs/575016/13378952/2/small.jpg',\n",
       "   'sport_type': 'running',\n",
       "   'city': 'Cleveland',\n",
       "   'state': 'Ohio',\n",
       "   'country': 'United States',\n",
       "   'private': True,\n",
       "   'member_count': 0,\n",
       "   'featured': False,\n",
       "   'verified': False,\n",
       "   'url': 'laserson',\n",
       "   'membership': 'member',\n",
       "   'admin': False,\n",
       "   'owner': False}],\n",
       " 'ftp': None,\n",
       " 'weight': 0.0,\n",
       " 'bikes': [],\n",
       " 'shoes': []}"
      ]
     },
     "execution_count": 1055,
     "metadata": {},
     "output_type": "execute_result"
    }
   ],
   "source": [
    "response_profile = json.loads(requests.get(url_profile).text)\n",
    "response_profile"
   ]
  },
  {
   "cell_type": "markdown",
   "metadata": {},
   "source": [
    "# activities #"
   ]
  },
  {
   "cell_type": "code",
   "execution_count": 1056,
   "metadata": {},
   "outputs": [
    {
     "name": "stdout",
     "output_type": "stream",
     "text": [
      "https://www.strava.com/api/v3/athlete/activities/?access_token=190bdf01b923f5ac595a1ba5cb4223d3978490fb&per_page=200\n"
     ]
    }
   ],
   "source": [
    "# activites url\n",
    "result_limit = '&per_page=200'\n",
    "url_activites = base + request_type_activies + '/?access_token=' + access_token + result_limit\n",
    "print(url_activites)"
   ]
  },
  {
   "cell_type": "code",
   "execution_count": 1057,
   "metadata": {},
   "outputs": [],
   "source": [
    "activities = pd.read_json(url_activites)"
   ]
  },
  {
   "cell_type": "code",
   "execution_count": 1058,
   "metadata": {},
   "outputs": [
    {
     "data": {
      "text/html": [
       "<div>\n",
       "<style scoped>\n",
       "    .dataframe tbody tr th:only-of-type {\n",
       "        vertical-align: middle;\n",
       "    }\n",
       "\n",
       "    .dataframe tbody tr th {\n",
       "        vertical-align: top;\n",
       "    }\n",
       "\n",
       "    .dataframe thead th {\n",
       "        text-align: right;\n",
       "    }\n",
       "</style>\n",
       "<table border=\"1\" class=\"dataframe\">\n",
       "  <thead>\n",
       "    <tr style=\"text-align: right;\">\n",
       "      <th></th>\n",
       "      <th>resource_state</th>\n",
       "      <th>athlete</th>\n",
       "      <th>name</th>\n",
       "      <th>distance_klm</th>\n",
       "      <th>moving_time</th>\n",
       "      <th>elapsed_time</th>\n",
       "      <th>total_elevation_gain</th>\n",
       "      <th>type</th>\n",
       "      <th>workout_type</th>\n",
       "      <th>id</th>\n",
       "      <th>...</th>\n",
       "      <th>elev_high</th>\n",
       "      <th>elev_low</th>\n",
       "      <th>pr_count</th>\n",
       "      <th>total_photo_count</th>\n",
       "      <th>has_kudoed</th>\n",
       "      <th>distance_miles</th>\n",
       "      <th>elapsed_time_seconds</th>\n",
       "      <th>elapsed_time_minutes</th>\n",
       "      <th>elapsed_time_hours</th>\n",
       "      <th>activity_date</th>\n",
       "    </tr>\n",
       "  </thead>\n",
       "  <tbody>\n",
       "    <tr>\n",
       "      <th>0</th>\n",
       "      <td>2</td>\n",
       "      <td>{'id': 49503364, 'resource_state': 1}</td>\n",
       "      <td>CHQ Sunday morning run</td>\n",
       "      <td>6.8262</td>\n",
       "      <td>2038</td>\n",
       "      <td>2041</td>\n",
       "      <td>72.1</td>\n",
       "      <td>Run</td>\n",
       "      <td>0.0</td>\n",
       "      <td>3392135207</td>\n",
       "      <td>...</td>\n",
       "      <td>430.0</td>\n",
       "      <td>399.7</td>\n",
       "      <td>1</td>\n",
       "      <td>0</td>\n",
       "      <td>False</td>\n",
       "      <td>4.241615</td>\n",
       "      <td>2041</td>\n",
       "      <td>34.016667</td>\n",
       "      <td>0.566944</td>\n",
       "      <td>2020-05-03</td>\n",
       "    </tr>\n",
       "    <tr>\n",
       "      <th>1</th>\n",
       "      <td>2</td>\n",
       "      <td>{'id': 49503364, 'resource_state': 1}</td>\n",
       "      <td>CHQ run</td>\n",
       "      <td>3.6551</td>\n",
       "      <td>1114</td>\n",
       "      <td>1117</td>\n",
       "      <td>34.2</td>\n",
       "      <td>Run</td>\n",
       "      <td>0.0</td>\n",
       "      <td>3382277530</td>\n",
       "      <td>...</td>\n",
       "      <td>420.9</td>\n",
       "      <td>400.2</td>\n",
       "      <td>0</td>\n",
       "      <td>0</td>\n",
       "      <td>False</td>\n",
       "      <td>2.271179</td>\n",
       "      <td>1117</td>\n",
       "      <td>18.616667</td>\n",
       "      <td>0.310278</td>\n",
       "      <td>2020-05-01</td>\n",
       "    </tr>\n",
       "    <tr>\n",
       "      <th>2</th>\n",
       "      <td>2</td>\n",
       "      <td>{'id': 49503364, 'resource_state': 1}</td>\n",
       "      <td>Tuesday evening run</td>\n",
       "      <td>4.4510</td>\n",
       "      <td>1379</td>\n",
       "      <td>1379</td>\n",
       "      <td>32.0</td>\n",
       "      <td>Run</td>\n",
       "      <td>0.0</td>\n",
       "      <td>3368217100</td>\n",
       "      <td>...</td>\n",
       "      <td>359.8</td>\n",
       "      <td>345.6</td>\n",
       "      <td>0</td>\n",
       "      <td>0</td>\n",
       "      <td>False</td>\n",
       "      <td>2.765730</td>\n",
       "      <td>1379</td>\n",
       "      <td>22.983333</td>\n",
       "      <td>0.383056</td>\n",
       "      <td>2020-04-28</td>\n",
       "    </tr>\n",
       "    <tr>\n",
       "      <th>3</th>\n",
       "      <td>2</td>\n",
       "      <td>{'id': 49503364, 'resource_state': 1}</td>\n",
       "      <td>Sunday afternoon run</td>\n",
       "      <td>6.4479</td>\n",
       "      <td>2116</td>\n",
       "      <td>2127</td>\n",
       "      <td>50.9</td>\n",
       "      <td>Run</td>\n",
       "      <td>0.0</td>\n",
       "      <td>3358711405</td>\n",
       "      <td>...</td>\n",
       "      <td>368.4</td>\n",
       "      <td>341.6</td>\n",
       "      <td>0</td>\n",
       "      <td>0</td>\n",
       "      <td>False</td>\n",
       "      <td>4.006549</td>\n",
       "      <td>2127</td>\n",
       "      <td>35.450000</td>\n",
       "      <td>0.590833</td>\n",
       "      <td>2020-04-26</td>\n",
       "    </tr>\n",
       "    <tr>\n",
       "      <th>4</th>\n",
       "      <td>2</td>\n",
       "      <td>{'id': 49503364, 'resource_state': 1}</td>\n",
       "      <td>Thursday evening run</td>\n",
       "      <td>3.3726</td>\n",
       "      <td>1019</td>\n",
       "      <td>1019</td>\n",
       "      <td>24.7</td>\n",
       "      <td>Run</td>\n",
       "      <td>0.0</td>\n",
       "      <td>3343537648</td>\n",
       "      <td>...</td>\n",
       "      <td>359.8</td>\n",
       "      <td>348.4</td>\n",
       "      <td>0</td>\n",
       "      <td>0</td>\n",
       "      <td>False</td>\n",
       "      <td>2.095642</td>\n",
       "      <td>1019</td>\n",
       "      <td>16.983333</td>\n",
       "      <td>0.283056</td>\n",
       "      <td>2020-04-23</td>\n",
       "    </tr>\n",
       "  </tbody>\n",
       "</table>\n",
       "<p>5 rows × 53 columns</p>\n",
       "</div>"
      ],
      "text/plain": [
       "   resource_state                                athlete  \\\n",
       "0               2  {'id': 49503364, 'resource_state': 1}   \n",
       "1               2  {'id': 49503364, 'resource_state': 1}   \n",
       "2               2  {'id': 49503364, 'resource_state': 1}   \n",
       "3               2  {'id': 49503364, 'resource_state': 1}   \n",
       "4               2  {'id': 49503364, 'resource_state': 1}   \n",
       "\n",
       "                     name  distance_klm  moving_time  elapsed_time  \\\n",
       "0  CHQ Sunday morning run        6.8262         2038          2041   \n",
       "1                 CHQ run        3.6551         1114          1117   \n",
       "2     Tuesday evening run        4.4510         1379          1379   \n",
       "3    Sunday afternoon run        6.4479         2116          2127   \n",
       "4    Thursday evening run        3.3726         1019          1019   \n",
       "\n",
       "   total_elevation_gain type  workout_type          id  ... elev_high  \\\n",
       "0                  72.1  Run           0.0  3392135207  ...     430.0   \n",
       "1                  34.2  Run           0.0  3382277530  ...     420.9   \n",
       "2                  32.0  Run           0.0  3368217100  ...     359.8   \n",
       "3                  50.9  Run           0.0  3358711405  ...     368.4   \n",
       "4                  24.7  Run           0.0  3343537648  ...     359.8   \n",
       "\n",
       "   elev_low pr_count total_photo_count has_kudoed  distance_miles  \\\n",
       "0     399.7        1                 0      False        4.241615   \n",
       "1     400.2        0                 0      False        2.271179   \n",
       "2     345.6        0                 0      False        2.765730   \n",
       "3     341.6        0                 0      False        4.006549   \n",
       "4     348.4        0                 0      False        2.095642   \n",
       "\n",
       "  elapsed_time_seconds elapsed_time_minutes  elapsed_time_hours  activity_date  \n",
       "0                 2041            34.016667            0.566944     2020-05-03  \n",
       "1                 1117            18.616667            0.310278     2020-05-01  \n",
       "2                 1379            22.983333            0.383056     2020-04-28  \n",
       "3                 2127            35.450000            0.590833     2020-04-26  \n",
       "4                 1019            16.983333            0.283056     2020-04-23  \n",
       "\n",
       "[5 rows x 53 columns]"
      ]
     },
     "execution_count": 1058,
     "metadata": {},
     "output_type": "execute_result"
    }
   ],
   "source": [
    "activities.rename(columns = {'distance':'distance_klm'},inplace = True)\n",
    "\n",
    "# unit conversion\n",
    "activities['distance_klm'] = activities['distance_klm'] / 1000\n",
    "activities['distance_miles'] = activities['distance_klm'] / 1.60934\n",
    "\n",
    "activities['elapsed_time_seconds'] = activities['elapsed_time']\n",
    "activities['elapsed_time_minutes'] = activities['elapsed_time_seconds'] / 60\n",
    "activities['elapsed_time_hours'] = activities['elapsed_time_minutes'] / 60\n",
    "\n",
    "# datetime parsing\n",
    "activities['activity_date'] = pd.to_datetime(activities['start_date']).dt.strftime('%Y-%m-%d')\n",
    "\n",
    "activities.head()"
   ]
  },
  {
   "cell_type": "code",
   "execution_count": 1059,
   "metadata": {},
   "outputs": [
    {
     "data": {
      "text/plain": [
       "124"
      ]
     },
     "execution_count": 1059,
     "metadata": {},
     "output_type": "execute_result"
    }
   ],
   "source": [
    "days_elapsed = pd.to_datetime(pd.to_datetime(\"today\").strftime('%Y-%m-%d')) - pd.to_datetime(pd.to_datetime(\"2020-01-01\").strftime('%Y-%m-%d'))\n",
    "days_elapsed.days"
   ]
  },
  {
   "cell_type": "code",
   "execution_count": 1060,
   "metadata": {},
   "outputs": [
    {
     "data": {
      "text/plain": [
       "0.33972602739726027"
      ]
     },
     "execution_count": 1060,
     "metadata": {},
     "output_type": "execute_result"
    }
   ],
   "source": [
    "days_elapsed.days / 365"
   ]
  },
  {
   "cell_type": "code",
   "execution_count": 1061,
   "metadata": {},
   "outputs": [
    {
     "data": {
      "text/plain": [
       "129.85577938782362"
      ]
     },
     "execution_count": 1061,
     "metadata": {},
     "output_type": "execute_result"
    }
   ],
   "source": [
    "sum(activities['distance_miles'])"
   ]
  },
  {
   "cell_type": "code",
   "execution_count": 1062,
   "metadata": {},
   "outputs": [
    {
     "data": {
      "text/plain": [
       "46"
      ]
     },
     "execution_count": 1062,
     "metadata": {},
     "output_type": "execute_result"
    }
   ],
   "source": [
    "len(activities)"
   ]
  },
  {
   "cell_type": "markdown",
   "metadata": {},
   "source": [
    "### daily performance ###"
   ]
  },
  {
   "cell_type": "code",
   "execution_count": 1382,
   "metadata": {
    "scrolled": false
   },
   "outputs": [
    {
     "data": {
      "text/html": [
       "<div>\n",
       "<style scoped>\n",
       "    .dataframe tbody tr th:only-of-type {\n",
       "        vertical-align: middle;\n",
       "    }\n",
       "\n",
       "    .dataframe tbody tr th {\n",
       "        vertical-align: top;\n",
       "    }\n",
       "\n",
       "    .dataframe thead th {\n",
       "        text-align: right;\n",
       "    }\n",
       "</style>\n",
       "<table border=\"1\" class=\"dataframe\">\n",
       "  <thead>\n",
       "    <tr style=\"text-align: right;\">\n",
       "      <th></th>\n",
       "      <th>date</th>\n",
       "      <th>distance_miles</th>\n",
       "      <th>elapsed_time_hours</th>\n",
       "    </tr>\n",
       "  </thead>\n",
       "  <tbody>\n",
       "    <tr>\n",
       "      <th>0</th>\n",
       "      <td>2020-01-03</td>\n",
       "      <td>2.000075</td>\n",
       "      <td>0.283333</td>\n",
       "    </tr>\n",
       "    <tr>\n",
       "      <th>1</th>\n",
       "      <td>2020-01-08</td>\n",
       "      <td>1.000037</td>\n",
       "      <td>0.133333</td>\n",
       "    </tr>\n",
       "    <tr>\n",
       "      <th>2</th>\n",
       "      <td>2020-01-14</td>\n",
       "      <td>1.000037</td>\n",
       "      <td>0.133333</td>\n",
       "    </tr>\n",
       "    <tr>\n",
       "      <th>3</th>\n",
       "      <td>2020-01-18</td>\n",
       "      <td>1.000037</td>\n",
       "      <td>0.150000</td>\n",
       "    </tr>\n",
       "    <tr>\n",
       "      <th>4</th>\n",
       "      <td>2020-01-20</td>\n",
       "      <td>1.000037</td>\n",
       "      <td>0.133333</td>\n",
       "    </tr>\n",
       "  </tbody>\n",
       "</table>\n",
       "</div>"
      ],
      "text/plain": [
       "        date  distance_miles  elapsed_time_hours\n",
       "0 2020-01-03        2.000075            0.283333\n",
       "1 2020-01-08        1.000037            0.133333\n",
       "2 2020-01-14        1.000037            0.133333\n",
       "3 2020-01-18        1.000037            0.150000\n",
       "4 2020-01-20        1.000037            0.133333"
      ]
     },
     "execution_count": 1382,
     "metadata": {},
     "output_type": "execute_result"
    }
   ],
   "source": [
    "performance_daily = activities[['activity_date','distance_miles','elapsed_time_hours']].groupby('activity_date').sum().reset_index()\n",
    "performance_daily.rename(columns = {'activity_date':'date'}, inplace = True)\n",
    "performance_daily['date'] = pd.to_datetime(performance['date'])\n",
    "performance_daily.head()"
   ]
  },
  {
   "cell_type": "markdown",
   "metadata": {},
   "source": [
    "## dataframe construction ##"
   ]
  },
  {
   "cell_type": "code",
   "execution_count": 1383,
   "metadata": {},
   "outputs": [
    {
     "data": {
      "text/plain": [
       "DatetimeIndex(['2020-01-01', '2020-01-02', '2020-01-03', '2020-01-04',\n",
       "               '2020-01-05'],\n",
       "              dtype='datetime64[ns]', freq='D')"
      ]
     },
     "execution_count": 1383,
     "metadata": {},
     "output_type": "execute_result"
    }
   ],
   "source": [
    "# create list of every day in the year in YYYY-MM-DD format\n",
    "\n",
    "date_series = pd.date_range(start ='2020-01-01',  end = '2020-12-31', freq ='1D') \n",
    "date_series[0:5]"
   ]
  },
  {
   "cell_type": "code",
   "execution_count": 1384,
   "metadata": {},
   "outputs": [
    {
     "data": {
      "text/plain": [
       "PeriodIndex(['2020-01', '2020-01', '2020-01', '2020-01', '2020-01'], dtype='period[M]', freq='M')"
      ]
     },
     "execution_count": 1384,
     "metadata": {},
     "output_type": "execute_result"
    }
   ],
   "source": [
    "# create list of every day's month in YYYY-MM format\n",
    "\n",
    "month_series = date_series.to_period('M')\n",
    "month_series[0:5]"
   ]
  },
  {
   "cell_type": "code",
   "execution_count": 1385,
   "metadata": {},
   "outputs": [
    {
     "data": {
      "text/plain": [
       "Int64Index([1, 2, 3, 4, 5], dtype='int64')"
      ]
     },
     "execution_count": 1385,
     "metadata": {},
     "output_type": "execute_result"
    }
   ],
   "source": [
    "# create list of integers representing the day of the month (i.e. 2020-01-01 will have a value of 1 etc.)\n",
    "\n",
    "month_day = date_series.day\n",
    "month_day[0:5]"
   ]
  },
  {
   "cell_type": "code",
   "execution_count": 1386,
   "metadata": {},
   "outputs": [
    {
     "data": {
      "text/plain": [
       "array([1, 2, 3, 4, 5])"
      ]
     },
     "execution_count": 1386,
     "metadata": {},
     "output_type": "execute_result"
    }
   ],
   "source": [
    "# create list of integers representing the day of the year (i.e. 2020-02-01 will have a value of 32 etc.)\n",
    "\n",
    "year_day = np.arange(len(date_series))\n",
    "year_day = year_day + 1 # make first day of the year 1, not 0\n",
    "year_day[0:5]"
   ]
  },
  {
   "cell_type": "code",
   "execution_count": 1387,
   "metadata": {},
   "outputs": [
    {
     "data": {
      "text/plain": [
       "array([1, 2, 3, 4, 5])"
      ]
     },
     "execution_count": 1387,
     "metadata": {},
     "output_type": "execute_result"
    }
   ],
   "source": [
    "# create integer representing the day of the year (i.e. 2020-02-01 will have a value of 32 etc.)\n",
    "\n",
    "distance_requirement_miles = np.arange(len(date_series))\n",
    "distance_requirement_miles = distance_requirement_miles + 1 # make first day of the year 1, not 0\n",
    "distance_requirement_miles[0:5]"
   ]
  },
  {
   "cell_type": "code",
   "execution_count": 1388,
   "metadata": {},
   "outputs": [
    {
     "data": {
      "text/html": [
       "<div>\n",
       "<style scoped>\n",
       "    .dataframe tbody tr th:only-of-type {\n",
       "        vertical-align: middle;\n",
       "    }\n",
       "\n",
       "    .dataframe tbody tr th {\n",
       "        vertical-align: top;\n",
       "    }\n",
       "\n",
       "    .dataframe thead th {\n",
       "        text-align: right;\n",
       "    }\n",
       "</style>\n",
       "<table border=\"1\" class=\"dataframe\">\n",
       "  <thead>\n",
       "    <tr style=\"text-align: right;\">\n",
       "      <th></th>\n",
       "      <th>date</th>\n",
       "      <th>month</th>\n",
       "      <th>year_day</th>\n",
       "      <th>month_day</th>\n",
       "      <th>distance_requirement_miles</th>\n",
       "    </tr>\n",
       "  </thead>\n",
       "  <tbody>\n",
       "    <tr>\n",
       "      <th>0</th>\n",
       "      <td>2020-01-01</td>\n",
       "      <td>2020-01</td>\n",
       "      <td>1</td>\n",
       "      <td>1</td>\n",
       "      <td>1</td>\n",
       "    </tr>\n",
       "    <tr>\n",
       "      <th>1</th>\n",
       "      <td>2020-01-02</td>\n",
       "      <td>2020-01</td>\n",
       "      <td>2</td>\n",
       "      <td>2</td>\n",
       "      <td>2</td>\n",
       "    </tr>\n",
       "    <tr>\n",
       "      <th>2</th>\n",
       "      <td>2020-01-03</td>\n",
       "      <td>2020-01</td>\n",
       "      <td>3</td>\n",
       "      <td>3</td>\n",
       "      <td>3</td>\n",
       "    </tr>\n",
       "    <tr>\n",
       "      <th>3</th>\n",
       "      <td>2020-01-04</td>\n",
       "      <td>2020-01</td>\n",
       "      <td>4</td>\n",
       "      <td>4</td>\n",
       "      <td>4</td>\n",
       "    </tr>\n",
       "    <tr>\n",
       "      <th>4</th>\n",
       "      <td>2020-01-05</td>\n",
       "      <td>2020-01</td>\n",
       "      <td>5</td>\n",
       "      <td>5</td>\n",
       "      <td>5</td>\n",
       "    </tr>\n",
       "  </tbody>\n",
       "</table>\n",
       "</div>"
      ],
      "text/plain": [
       "        date    month  year_day  month_day  distance_requirement_miles\n",
       "0 2020-01-01  2020-01         1          1                           1\n",
       "1 2020-01-02  2020-01         2          2                           2\n",
       "2 2020-01-03  2020-01         3          3                           3\n",
       "3 2020-01-04  2020-01         4          4                           4\n",
       "4 2020-01-05  2020-01         5          5                           5"
      ]
     },
     "execution_count": 1388,
     "metadata": {},
     "output_type": "execute_result"
    }
   ],
   "source": [
    "df = pd.DataFrame(list(zip(date_series,month_series,year_day,month_day,distance_requirement_miles)), columns =['date','month','year_day','month_day','distance_requirement_miles'])\n",
    "df.head()"
   ]
  },
  {
   "cell_type": "code",
   "execution_count": 1389,
   "metadata": {},
   "outputs": [
    {
     "data": {
      "text/html": [
       "<div>\n",
       "<style scoped>\n",
       "    .dataframe tbody tr th:only-of-type {\n",
       "        vertical-align: middle;\n",
       "    }\n",
       "\n",
       "    .dataframe tbody tr th {\n",
       "        vertical-align: top;\n",
       "    }\n",
       "\n",
       "    .dataframe thead th {\n",
       "        text-align: right;\n",
       "    }\n",
       "</style>\n",
       "<table border=\"1\" class=\"dataframe\">\n",
       "  <thead>\n",
       "    <tr style=\"text-align: right;\">\n",
       "      <th></th>\n",
       "      <th>date</th>\n",
       "      <th>month</th>\n",
       "      <th>year_day</th>\n",
       "      <th>month_day</th>\n",
       "      <th>distance_requirement_miles</th>\n",
       "      <th>distance_miles</th>\n",
       "      <th>elapsed_time_hours</th>\n",
       "    </tr>\n",
       "  </thead>\n",
       "  <tbody>\n",
       "    <tr>\n",
       "      <th>0</th>\n",
       "      <td>2020-01-01</td>\n",
       "      <td>2020-01</td>\n",
       "      <td>1</td>\n",
       "      <td>1</td>\n",
       "      <td>1</td>\n",
       "      <td>NaN</td>\n",
       "      <td>NaN</td>\n",
       "    </tr>\n",
       "    <tr>\n",
       "      <th>1</th>\n",
       "      <td>2020-01-02</td>\n",
       "      <td>2020-01</td>\n",
       "      <td>2</td>\n",
       "      <td>2</td>\n",
       "      <td>2</td>\n",
       "      <td>NaN</td>\n",
       "      <td>NaN</td>\n",
       "    </tr>\n",
       "    <tr>\n",
       "      <th>2</th>\n",
       "      <td>2020-01-03</td>\n",
       "      <td>2020-01</td>\n",
       "      <td>3</td>\n",
       "      <td>3</td>\n",
       "      <td>3</td>\n",
       "      <td>2.000075</td>\n",
       "      <td>0.283333</td>\n",
       "    </tr>\n",
       "    <tr>\n",
       "      <th>3</th>\n",
       "      <td>2020-01-04</td>\n",
       "      <td>2020-01</td>\n",
       "      <td>4</td>\n",
       "      <td>4</td>\n",
       "      <td>4</td>\n",
       "      <td>NaN</td>\n",
       "      <td>NaN</td>\n",
       "    </tr>\n",
       "    <tr>\n",
       "      <th>4</th>\n",
       "      <td>2020-01-05</td>\n",
       "      <td>2020-01</td>\n",
       "      <td>5</td>\n",
       "      <td>5</td>\n",
       "      <td>5</td>\n",
       "      <td>NaN</td>\n",
       "      <td>NaN</td>\n",
       "    </tr>\n",
       "  </tbody>\n",
       "</table>\n",
       "</div>"
      ],
      "text/plain": [
       "        date    month  year_day  month_day  distance_requirement_miles  \\\n",
       "0 2020-01-01  2020-01         1          1                           1   \n",
       "1 2020-01-02  2020-01         2          2                           2   \n",
       "2 2020-01-03  2020-01         3          3                           3   \n",
       "3 2020-01-04  2020-01         4          4                           4   \n",
       "4 2020-01-05  2020-01         5          5                           5   \n",
       "\n",
       "   distance_miles  elapsed_time_hours  \n",
       "0             NaN                 NaN  \n",
       "1             NaN                 NaN  \n",
       "2        2.000075            0.283333  \n",
       "3             NaN                 NaN  \n",
       "4             NaN                 NaN  "
      ]
     },
     "execution_count": 1389,
     "metadata": {},
     "output_type": "execute_result"
    }
   ],
   "source": [
    "df = df.merge(performance_daily, how = 'left', left_on = 'date', right_on = 'date')\n",
    "df_copy = df.copy() # save for monthly performance metrics further beow\n",
    "df.head()"
   ]
  },
  {
   "cell_type": "code",
   "execution_count": 1390,
   "metadata": {},
   "outputs": [
    {
     "data": {
      "text/html": [
       "<div>\n",
       "<style scoped>\n",
       "    .dataframe tbody tr th:only-of-type {\n",
       "        vertical-align: middle;\n",
       "    }\n",
       "\n",
       "    .dataframe tbody tr th {\n",
       "        vertical-align: top;\n",
       "    }\n",
       "\n",
       "    .dataframe thead th {\n",
       "        text-align: right;\n",
       "    }\n",
       "</style>\n",
       "<table border=\"1\" class=\"dataframe\">\n",
       "  <thead>\n",
       "    <tr style=\"text-align: right;\">\n",
       "      <th></th>\n",
       "      <th>date</th>\n",
       "      <th>month</th>\n",
       "      <th>year_day</th>\n",
       "      <th>month_day</th>\n",
       "      <th>distance_requirement_miles</th>\n",
       "      <th>distance_miles</th>\n",
       "      <th>elapsed_time_hours</th>\n",
       "      <th>cum_distance_miles_year</th>\n",
       "      <th>cum_distance_miles_month</th>\n",
       "      <th>cum_time_month</th>\n",
       "      <th>cum_time_year</th>\n",
       "    </tr>\n",
       "  </thead>\n",
       "  <tbody>\n",
       "    <tr>\n",
       "      <th>0</th>\n",
       "      <td>2020-01-01</td>\n",
       "      <td>2020-01</td>\n",
       "      <td>1</td>\n",
       "      <td>1</td>\n",
       "      <td>1</td>\n",
       "      <td>0.000000</td>\n",
       "      <td>0.000000</td>\n",
       "      <td>0.000000</td>\n",
       "      <td>0.000000</td>\n",
       "      <td>0.000000</td>\n",
       "      <td>0.000000</td>\n",
       "    </tr>\n",
       "    <tr>\n",
       "      <th>1</th>\n",
       "      <td>2020-01-02</td>\n",
       "      <td>2020-01</td>\n",
       "      <td>2</td>\n",
       "      <td>2</td>\n",
       "      <td>2</td>\n",
       "      <td>0.000000</td>\n",
       "      <td>0.000000</td>\n",
       "      <td>0.000000</td>\n",
       "      <td>0.000000</td>\n",
       "      <td>0.000000</td>\n",
       "      <td>0.000000</td>\n",
       "    </tr>\n",
       "    <tr>\n",
       "      <th>2</th>\n",
       "      <td>2020-01-03</td>\n",
       "      <td>2020-01</td>\n",
       "      <td>3</td>\n",
       "      <td>3</td>\n",
       "      <td>3</td>\n",
       "      <td>2.000075</td>\n",
       "      <td>0.283333</td>\n",
       "      <td>2.000075</td>\n",
       "      <td>2.000075</td>\n",
       "      <td>0.283333</td>\n",
       "      <td>0.283333</td>\n",
       "    </tr>\n",
       "    <tr>\n",
       "      <th>3</th>\n",
       "      <td>2020-01-04</td>\n",
       "      <td>2020-01</td>\n",
       "      <td>4</td>\n",
       "      <td>4</td>\n",
       "      <td>4</td>\n",
       "      <td>0.000000</td>\n",
       "      <td>0.000000</td>\n",
       "      <td>2.000075</td>\n",
       "      <td>2.000075</td>\n",
       "      <td>0.283333</td>\n",
       "      <td>0.283333</td>\n",
       "    </tr>\n",
       "    <tr>\n",
       "      <th>4</th>\n",
       "      <td>2020-01-05</td>\n",
       "      <td>2020-01</td>\n",
       "      <td>5</td>\n",
       "      <td>5</td>\n",
       "      <td>5</td>\n",
       "      <td>0.000000</td>\n",
       "      <td>0.000000</td>\n",
       "      <td>2.000075</td>\n",
       "      <td>2.000075</td>\n",
       "      <td>0.283333</td>\n",
       "      <td>0.283333</td>\n",
       "    </tr>\n",
       "  </tbody>\n",
       "</table>\n",
       "</div>"
      ],
      "text/plain": [
       "        date    month  year_day  month_day  distance_requirement_miles  \\\n",
       "0 2020-01-01  2020-01         1          1                           1   \n",
       "1 2020-01-02  2020-01         2          2                           2   \n",
       "2 2020-01-03  2020-01         3          3                           3   \n",
       "3 2020-01-04  2020-01         4          4                           4   \n",
       "4 2020-01-05  2020-01         5          5                           5   \n",
       "\n",
       "   distance_miles  elapsed_time_hours  cum_distance_miles_year  \\\n",
       "0        0.000000            0.000000                 0.000000   \n",
       "1        0.000000            0.000000                 0.000000   \n",
       "2        2.000075            0.283333                 2.000075   \n",
       "3        0.000000            0.000000                 2.000075   \n",
       "4        0.000000            0.000000                 2.000075   \n",
       "\n",
       "   cum_distance_miles_month  cum_time_month  cum_time_year  \n",
       "0                  0.000000        0.000000       0.000000  \n",
       "1                  0.000000        0.000000       0.000000  \n",
       "2                  2.000075        0.283333       0.283333  \n",
       "3                  2.000075        0.283333       0.283333  \n",
       "4                  2.000075        0.283333       0.283333  "
      ]
     },
     "execution_count": 1390,
     "metadata": {},
     "output_type": "execute_result"
    }
   ],
   "source": [
    "# add cumulative fields to the dataframe\n",
    "\n",
    "df = df.fillna(0) # first, zero out any null values so that the data is continuous\n",
    "\n",
    "# distance\n",
    "\n",
    "df['cum_distance_miles_year'] = df['distance_miles'].cumsum()\n",
    "df['cum_distance_miles_month'] = df.groupby(['month'])['distance_miles'].cumsum()\n",
    "\n",
    "# time\n",
    "\n",
    "df['cum_time_month'] = df.groupby(['month'])['elapsed_time_hours'].cumsum()\n",
    "df['cum_time_year'] = df['elapsed_time_hours'].cumsum()\n",
    "\n",
    "df.head()"
   ]
  },
  {
   "cell_type": "markdown",
   "metadata": {},
   "source": [
    "# visualizing my performance #"
   ]
  },
  {
   "cell_type": "markdown",
   "metadata": {},
   "source": [
    "### tracking my progress vs the year's progress ###"
   ]
  },
  {
   "cell_type": "code",
   "execution_count": 1391,
   "metadata": {},
   "outputs": [
    {
     "data": {
      "text/html": [
       "<div>\n",
       "<style scoped>\n",
       "    .dataframe tbody tr th:only-of-type {\n",
       "        vertical-align: middle;\n",
       "    }\n",
       "\n",
       "    .dataframe tbody tr th {\n",
       "        vertical-align: top;\n",
       "    }\n",
       "\n",
       "    .dataframe thead th {\n",
       "        text-align: right;\n",
       "    }\n",
       "</style>\n",
       "<table border=\"1\" class=\"dataframe\">\n",
       "  <thead>\n",
       "    <tr style=\"text-align: right;\">\n",
       "      <th></th>\n",
       "      <th>distance_requirement_miles</th>\n",
       "      <th>cum_distance_miles_year</th>\n",
       "    </tr>\n",
       "  </thead>\n",
       "  <tbody>\n",
       "    <tr>\n",
       "      <th>0</th>\n",
       "      <td>1</td>\n",
       "      <td>0.000000</td>\n",
       "    </tr>\n",
       "    <tr>\n",
       "      <th>1</th>\n",
       "      <td>2</td>\n",
       "      <td>0.000000</td>\n",
       "    </tr>\n",
       "    <tr>\n",
       "      <th>2</th>\n",
       "      <td>3</td>\n",
       "      <td>2.000075</td>\n",
       "    </tr>\n",
       "    <tr>\n",
       "      <th>3</th>\n",
       "      <td>4</td>\n",
       "      <td>2.000075</td>\n",
       "    </tr>\n",
       "    <tr>\n",
       "      <th>4</th>\n",
       "      <td>5</td>\n",
       "      <td>2.000075</td>\n",
       "    </tr>\n",
       "  </tbody>\n",
       "</table>\n",
       "</div>"
      ],
      "text/plain": [
       "   distance_requirement_miles  cum_distance_miles_year\n",
       "0                           1                 0.000000\n",
       "1                           2                 0.000000\n",
       "2                           3                 2.000075\n",
       "3                           4                 2.000075\n",
       "4                           5                 2.000075"
      ]
     },
     "execution_count": 1391,
     "metadata": {},
     "output_type": "execute_result"
    }
   ],
   "source": [
    "# filter for just dates that have happened\n",
    "df_plot = df[df['date'] <= today_date]\n",
    "\n",
    "# grab just the columns we need\n",
    "df_plot = df_plot[['distance_requirement_miles','cum_distance_miles_year']]\n",
    "\n",
    "# preview output\n",
    "df_plot.head()"
   ]
  },
  {
   "cell_type": "code",
   "execution_count": 1392,
   "metadata": {},
   "outputs": [
    {
     "data": {
      "text/plain": [
       "Text(0.5, 1.0, 'Cumulative distance run in 2020 vs. daily pace')"
      ]
     },
     "execution_count": 1392,
     "metadata": {},
     "output_type": "execute_result"
    },
    {
     "data": {
      "text/plain": [
       "<Figure size 720x720 with 0 Axes>"
      ]
     },
     "metadata": {},
     "output_type": "display_data"
    },
    {
     "data": {
      "image/png": "[encoded data removed]",
      "text/plain": [
       "<Figure size 720x720 with 1 Axes>"
      ]
     },
     "metadata": {
      "needs_background": "light"
     },
     "output_type": "display_data"
    }
   ],
   "source": [
    "plt.figure()\n",
    "\n",
    "plt.rcParams[\"figure.figsize\"] = (10,10)\n",
    "\n",
    "df_plot.plot()\n",
    "\n",
    "plt.xlabel('Days into year')\n",
    "plt.ylabel('Distance (miles)')\n",
    "plt.title('Cumulative distance run in 2020 vs. daily pace')"
   ]
  },
  {
   "cell_type": "markdown",
   "metadata": {},
   "source": [
    "### tracking month over month cumulative distance run ###"
   ]
  },
  {
   "cell_type": "code",
   "execution_count": 1393,
   "metadata": {},
   "outputs": [
    {
     "data": {
      "text/html": [
       "<div>\n",
       "<style scoped>\n",
       "    .dataframe tbody tr th:only-of-type {\n",
       "        vertical-align: middle;\n",
       "    }\n",
       "\n",
       "    .dataframe tbody tr th {\n",
       "        vertical-align: top;\n",
       "    }\n",
       "\n",
       "    .dataframe thead th {\n",
       "        text-align: right;\n",
       "    }\n",
       "</style>\n",
       "<table border=\"1\" class=\"dataframe\">\n",
       "  <thead>\n",
       "    <tr style=\"text-align: right;\">\n",
       "      <th>month</th>\n",
       "      <th>2020-01</th>\n",
       "      <th>2020-02</th>\n",
       "      <th>2020-03</th>\n",
       "      <th>2020-04</th>\n",
       "      <th>2020-05</th>\n",
       "    </tr>\n",
       "    <tr>\n",
       "      <th>month_day</th>\n",
       "      <th></th>\n",
       "      <th></th>\n",
       "      <th></th>\n",
       "      <th></th>\n",
       "      <th></th>\n",
       "    </tr>\n",
       "  </thead>\n",
       "  <tbody>\n",
       "    <tr>\n",
       "      <th>1</th>\n",
       "      <td>0.000000</td>\n",
       "      <td>0.000000</td>\n",
       "      <td>0.992208</td>\n",
       "      <td>2.048355</td>\n",
       "      <td>2.271179</td>\n",
       "    </tr>\n",
       "    <tr>\n",
       "      <th>2</th>\n",
       "      <td>0.000000</td>\n",
       "      <td>13.102452</td>\n",
       "      <td>0.992208</td>\n",
       "      <td>2.048355</td>\n",
       "      <td>2.271179</td>\n",
       "    </tr>\n",
       "    <tr>\n",
       "      <th>3</th>\n",
       "      <td>2.000075</td>\n",
       "      <td>13.102452</td>\n",
       "      <td>0.992208</td>\n",
       "      <td>6.079014</td>\n",
       "      <td>6.512794</td>\n",
       "    </tr>\n",
       "    <tr>\n",
       "      <th>4</th>\n",
       "      <td>2.000075</td>\n",
       "      <td>13.102452</td>\n",
       "      <td>2.271242</td>\n",
       "      <td>6.079014</td>\n",
       "      <td>6.512794</td>\n",
       "    </tr>\n",
       "    <tr>\n",
       "      <th>5</th>\n",
       "      <td>2.000075</td>\n",
       "      <td>13.102452</td>\n",
       "      <td>2.271242</td>\n",
       "      <td>16.441088</td>\n",
       "      <td>NaN</td>\n",
       "    </tr>\n",
       "  </tbody>\n",
       "</table>\n",
       "</div>"
      ],
      "text/plain": [
       "month       2020-01    2020-02   2020-03    2020-04   2020-05\n",
       "month_day                                                    \n",
       "1          0.000000   0.000000  0.992208   2.048355  2.271179\n",
       "2          0.000000  13.102452  0.992208   2.048355  2.271179\n",
       "3          2.000075  13.102452  0.992208   6.079014  6.512794\n",
       "4          2.000075  13.102452  2.271242   6.079014  6.512794\n",
       "5          2.000075  13.102452  2.271242  16.441088       NaN"
      ]
     },
     "execution_count": 1393,
     "metadata": {},
     "output_type": "execute_result"
    }
   ],
   "source": [
    "# filter for just dates that have happened\n",
    "df_plot = df[df['date'] <= today_date]\n",
    "\n",
    "# grab just the columns we need\n",
    "df_plot = df_plot[['month','month_day','cum_distance_miles_month']]\n",
    "\n",
    "# manipulate dataset to fit plot format\n",
    "df_plot = df_plot.pivot(index = 'month_day', columns = 'month', values = 'cum_distance_miles_month')\n",
    "\n",
    "# preview output\n",
    "df_plot.head()"
   ]
  },
  {
   "cell_type": "code",
   "execution_count": 1407,
   "metadata": {},
   "outputs": [
    {
     "data": {
      "text/plain": [
       "Text(0.5, 1.0, 'Cumulative distance run in each month')"
      ]
     },
     "execution_count": 1407,
     "metadata": {},
     "output_type": "execute_result"
    },
    {
     "data": {
      "image/png": "[encoded data removed]",
      "text/plain": [
       "<Figure size 720x720 with 1 Axes>"
      ]
     },
     "metadata": {
      "needs_background": "light"
     },
     "output_type": "display_data"
    }
   ],
   "source": [
    "# plt.figure()\n",
    "\n",
    "df_plot.plot()\n",
    "\n",
    "# monthly_goal\n",
    "plt.axhline(y=30, color='black', linestyle='--')\n",
    "\n",
    "plt.rcParams[\"figure.figsize\"] = (10,10)\n",
    "\n",
    "plt.xlabel('Days into month')\n",
    "plt.ylabel('Distance (miles)')\n",
    "plt.title('Cumulative distance run in each month')"
   ]
  },
  {
   "cell_type": "code",
   "execution_count": null,
   "metadata": {},
   "outputs": [],
   "source": []
  },
  {
   "cell_type": "markdown",
   "metadata": {},
   "source": [
    "# summary metrics by month #"
   ]
  },
  {
   "cell_type": "code",
   "execution_count": 1398,
   "metadata": {},
   "outputs": [],
   "source": [
    "performance_monthly = df[['month']].drop_duplicates().reset_index().drop(columns = 'index')"
   ]
  },
  {
   "cell_type": "code",
   "execution_count": 1399,
   "metadata": {},
   "outputs": [],
   "source": [
    "for i in range(len(performance_monthly['month'])):\n",
    "\n",
    "    # decalre month #\n",
    "    month = performance_monthly.iloc[i]['month']\n",
    "    \n",
    "#     ### per run stats ###\n",
    "    \n",
    "#     # distance metrics    \n",
    "    performance_monthly.loc[i,'total_runs'] = df[df['month'] == month][['distance_miles']].count().values\n",
    "    performance_monthly.loc[i,'total_distance'] = df[df['month'] == month][['distance_miles']].sum().values\n",
    "    performance_monthly.loc[i,'longest_run_distance'] = df[df['month'] == month][['distance_miles']].max().values\n",
    "    performance_monthly.loc[i,'avg_distance_per_run'] = df[df['month'] == month][['distance_miles']].mean().values\n",
    "\n",
    "#     # time metrics #\n",
    "    performance_monthly.loc[i,'total_time'] = df[df['month'] == month][['elapsed_time_hours']].sum().values\n",
    "    performance_monthly.loc[i,'longest_run_time'] = df[df['month'] == month][['elapsed_time_hours']].max().values\n",
    "    performance_monthly.loc[i,'avg_time_per_run'] = df[df['month'] == month][['elapsed_time_hours']].mean().values\n",
    "\n",
    "#     # fill in Na values with 0s (affect is felt with mean and min metrics)\n",
    "#     df_copy.fillna(0, inplace = True)\n",
    "\n",
    "#     ### per day stats ###\n",
    "\n",
    "#     # distance metrics #\n",
    "#     performance_monthly.loc[i,'avg_distance_per_day'] = df_copy[df_copy['month'] == month][['distance_miles']].mean().values\n",
    "\n",
    "#     # time metrics #\n",
    "#     performance_monthly.loc[i,'avg_time_per_day'] = df_copy[df_copy['month'] == month][['elapsed_time_hours']].mean().values\n"
   ]
  },
  {
   "cell_type": "code",
   "execution_count": 1400,
   "metadata": {},
   "outputs": [
    {
     "data": {
      "text/html": [
       "<div>\n",
       "<style scoped>\n",
       "    .dataframe tbody tr th:only-of-type {\n",
       "        vertical-align: middle;\n",
       "    }\n",
       "\n",
       "    .dataframe tbody tr th {\n",
       "        vertical-align: top;\n",
       "    }\n",
       "\n",
       "    .dataframe thead th {\n",
       "        text-align: right;\n",
       "    }\n",
       "</style>\n",
       "<table border=\"1\" class=\"dataframe\">\n",
       "  <thead>\n",
       "    <tr style=\"text-align: right;\">\n",
       "      <th></th>\n",
       "      <th>month</th>\n",
       "      <th>total_runs</th>\n",
       "      <th>total_distance</th>\n",
       "      <th>longest_run_distance</th>\n",
       "      <th>avg_distance_per_run</th>\n",
       "      <th>total_time</th>\n",
       "      <th>longest_run_time</th>\n",
       "      <th>avg_time_per_run</th>\n",
       "    </tr>\n",
       "  </thead>\n",
       "  <tbody>\n",
       "    <tr>\n",
       "      <th>0</th>\n",
       "      <td>2020-01</td>\n",
       "      <td>31.0</td>\n",
       "      <td>13.945158</td>\n",
       "      <td>7.444915</td>\n",
       "      <td>0.449844</td>\n",
       "      <td>1.934167</td>\n",
       "      <td>1.034167</td>\n",
       "      <td>0.062392</td>\n",
       "    </tr>\n",
       "    <tr>\n",
       "      <th>1</th>\n",
       "      <td>2020-02</td>\n",
       "      <td>29.0</td>\n",
       "      <td>31.906434</td>\n",
       "      <td>13.102452</td>\n",
       "      <td>1.100222</td>\n",
       "      <td>4.891111</td>\n",
       "      <td>1.958333</td>\n",
       "      <td>0.168659</td>\n",
       "    </tr>\n",
       "    <tr>\n",
       "      <th>2</th>\n",
       "      <td>2020-03</td>\n",
       "      <td>31.0</td>\n",
       "      <td>35.121168</td>\n",
       "      <td>8.000050</td>\n",
       "      <td>1.132941</td>\n",
       "      <td>5.070556</td>\n",
       "      <td>1.172778</td>\n",
       "      <td>0.163566</td>\n",
       "    </tr>\n",
       "    <tr>\n",
       "      <th>3</th>\n",
       "      <td>2020-04</td>\n",
       "      <td>30.0</td>\n",
       "      <td>42.370226</td>\n",
       "      <td>10.362074</td>\n",
       "      <td>1.412341</td>\n",
       "      <td>6.126389</td>\n",
       "      <td>1.538333</td>\n",
       "      <td>0.204213</td>\n",
       "    </tr>\n",
       "    <tr>\n",
       "      <th>4</th>\n",
       "      <td>2020-05</td>\n",
       "      <td>31.0</td>\n",
       "      <td>6.512794</td>\n",
       "      <td>4.241615</td>\n",
       "      <td>0.210090</td>\n",
       "      <td>0.877222</td>\n",
       "      <td>0.566944</td>\n",
       "      <td>0.028297</td>\n",
       "    </tr>\n",
       "    <tr>\n",
       "      <th>5</th>\n",
       "      <td>2020-06</td>\n",
       "      <td>30.0</td>\n",
       "      <td>0.000000</td>\n",
       "      <td>0.000000</td>\n",
       "      <td>0.000000</td>\n",
       "      <td>0.000000</td>\n",
       "      <td>0.000000</td>\n",
       "      <td>0.000000</td>\n",
       "    </tr>\n",
       "    <tr>\n",
       "      <th>6</th>\n",
       "      <td>2020-07</td>\n",
       "      <td>31.0</td>\n",
       "      <td>0.000000</td>\n",
       "      <td>0.000000</td>\n",
       "      <td>0.000000</td>\n",
       "      <td>0.000000</td>\n",
       "      <td>0.000000</td>\n",
       "      <td>0.000000</td>\n",
       "    </tr>\n",
       "    <tr>\n",
       "      <th>7</th>\n",
       "      <td>2020-08</td>\n",
       "      <td>31.0</td>\n",
       "      <td>0.000000</td>\n",
       "      <td>0.000000</td>\n",
       "      <td>0.000000</td>\n",
       "      <td>0.000000</td>\n",
       "      <td>0.000000</td>\n",
       "      <td>0.000000</td>\n",
       "    </tr>\n",
       "    <tr>\n",
       "      <th>8</th>\n",
       "      <td>2020-09</td>\n",
       "      <td>30.0</td>\n",
       "      <td>0.000000</td>\n",
       "      <td>0.000000</td>\n",
       "      <td>0.000000</td>\n",
       "      <td>0.000000</td>\n",
       "      <td>0.000000</td>\n",
       "      <td>0.000000</td>\n",
       "    </tr>\n",
       "    <tr>\n",
       "      <th>9</th>\n",
       "      <td>2020-10</td>\n",
       "      <td>31.0</td>\n",
       "      <td>0.000000</td>\n",
       "      <td>0.000000</td>\n",
       "      <td>0.000000</td>\n",
       "      <td>0.000000</td>\n",
       "      <td>0.000000</td>\n",
       "      <td>0.000000</td>\n",
       "    </tr>\n",
       "    <tr>\n",
       "      <th>10</th>\n",
       "      <td>2020-11</td>\n",
       "      <td>30.0</td>\n",
       "      <td>0.000000</td>\n",
       "      <td>0.000000</td>\n",
       "      <td>0.000000</td>\n",
       "      <td>0.000000</td>\n",
       "      <td>0.000000</td>\n",
       "      <td>0.000000</td>\n",
       "    </tr>\n",
       "    <tr>\n",
       "      <th>11</th>\n",
       "      <td>2020-12</td>\n",
       "      <td>31.0</td>\n",
       "      <td>0.000000</td>\n",
       "      <td>0.000000</td>\n",
       "      <td>0.000000</td>\n",
       "      <td>0.000000</td>\n",
       "      <td>0.000000</td>\n",
       "      <td>0.000000</td>\n",
       "    </tr>\n",
       "  </tbody>\n",
       "</table>\n",
       "</div>"
      ],
      "text/plain": [
       "      month  total_runs  total_distance  longest_run_distance  \\\n",
       "0   2020-01        31.0       13.945158              7.444915   \n",
       "1   2020-02        29.0       31.906434             13.102452   \n",
       "2   2020-03        31.0       35.121168              8.000050   \n",
       "3   2020-04        30.0       42.370226             10.362074   \n",
       "4   2020-05        31.0        6.512794              4.241615   \n",
       "5   2020-06        30.0        0.000000              0.000000   \n",
       "6   2020-07        31.0        0.000000              0.000000   \n",
       "7   2020-08        31.0        0.000000              0.000000   \n",
       "8   2020-09        30.0        0.000000              0.000000   \n",
       "9   2020-10        31.0        0.000000              0.000000   \n",
       "10  2020-11        30.0        0.000000              0.000000   \n",
       "11  2020-12        31.0        0.000000              0.000000   \n",
       "\n",
       "    avg_distance_per_run  total_time  longest_run_time  avg_time_per_run  \n",
       "0               0.449844    1.934167          1.034167          0.062392  \n",
       "1               1.100222    4.891111          1.958333          0.168659  \n",
       "2               1.132941    5.070556          1.172778          0.163566  \n",
       "3               1.412341    6.126389          1.538333          0.204213  \n",
       "4               0.210090    0.877222          0.566944          0.028297  \n",
       "5               0.000000    0.000000          0.000000          0.000000  \n",
       "6               0.000000    0.000000          0.000000          0.000000  \n",
       "7               0.000000    0.000000          0.000000          0.000000  \n",
       "8               0.000000    0.000000          0.000000          0.000000  \n",
       "9               0.000000    0.000000          0.000000          0.000000  \n",
       "10              0.000000    0.000000          0.000000          0.000000  \n",
       "11              0.000000    0.000000          0.000000          0.000000  "
      ]
     },
     "execution_count": 1400,
     "metadata": {},
     "output_type": "execute_result"
    }
   ],
   "source": [
    "performance_monthly"
   ]
  },
  {
   "cell_type": "code",
   "execution_count": null,
   "metadata": {
    "scrolled": true
   },
   "outputs": [],
   "source": []
  },
  {
   "cell_type": "code",
   "execution_count": null,
   "metadata": {},
   "outputs": [],
   "source": []
  },
  {
   "cell_type": "code",
   "execution_count": null,
   "metadata": {},
   "outputs": [],
   "source": []
  },
  {
   "cell_type": "code",
   "execution_count": null,
   "metadata": {},
   "outputs": [],
   "source": []
  },
  {
   "cell_type": "code",
   "execution_count": null,
   "metadata": {},
   "outputs": [],
   "source": []
  },
  {
   "cell_type": "markdown",
   "metadata": {},
   "source": [
    "# clubs #"
   ]
  },
  {
   "cell_type": "code",
   "execution_count": 1215,
   "metadata": {},
   "outputs": [
    {
     "name": "stdout",
     "output_type": "stream",
     "text": [
      "https://www.strava.com/api/v3/clubs/575016/activities?access_token=190bdf01b923f5ac595a1ba5cb4223d3978490fb&page=1&per_page=200\n"
     ]
    }
   ],
   "source": [
    "# clubs url\n",
    "result_limit = '&page=1&per_page=200'\n",
    "url_clubs = base + request_type_clubs + '?access_token=' + access_token + result_limit\n",
    "print(url_clubs)"
   ]
  },
  {
   "cell_type": "code",
   "execution_count": 1216,
   "metadata": {},
   "outputs": [
    {
     "data": {
      "text/plain": [
       "83"
      ]
     },
     "execution_count": 1216,
     "metadata": {},
     "output_type": "execute_result"
    }
   ],
   "source": [
    "clubs = pd.read_json(url_clubs)\n",
    "len(clubs)"
   ]
  },
  {
   "cell_type": "code",
   "execution_count": 1217,
   "metadata": {},
   "outputs": [
    {
     "name": "stderr",
     "output_type": "stream",
     "text": [
      "/usr/local/lib/python3.7/site-packages/ipykernel_launcher.py:5: SettingWithCopyWarning: \n",
      "A value is trying to be set on a copy of a slice from a DataFrame\n",
      "\n",
      "See the caveats in the documentation: https://pandas.pydata.org/pandas-docs/stable/user_guide/indexing.html#returning-a-view-versus-a-copy\n",
      "  \"\"\"\n",
      "/usr/local/lib/python3.7/site-packages/ipykernel_launcher.py:6: SettingWithCopyWarning: \n",
      "A value is trying to be set on a copy of a slice from a DataFrame\n",
      "\n",
      "See the caveats in the documentation: https://pandas.pydata.org/pandas-docs/stable/user_guide/indexing.html#returning-a-view-versus-a-copy\n",
      "  \n"
     ]
    }
   ],
   "source": [
    "clubs['first_name'] = ''\n",
    "clubs['last_name'] = ''\n",
    "\n",
    "for i in range(len(clubs)):    \n",
    "    clubs['first_name'][i] = clubs['athlete'][i]['firstname']\n",
    "    clubs['last_name'][i] = clubs['athlete'][i]['lastname']"
   ]
  },
  {
   "cell_type": "code",
   "execution_count": 1221,
   "metadata": {},
   "outputs": [
    {
     "data": {
      "text/html": [
       "<div>\n",
       "<style scoped>\n",
       "    .dataframe tbody tr th:only-of-type {\n",
       "        vertical-align: middle;\n",
       "    }\n",
       "\n",
       "    .dataframe tbody tr th {\n",
       "        vertical-align: top;\n",
       "    }\n",
       "\n",
       "    .dataframe thead th {\n",
       "        text-align: right;\n",
       "    }\n",
       "</style>\n",
       "<table border=\"1\" class=\"dataframe\">\n",
       "  <thead>\n",
       "    <tr style=\"text-align: right;\">\n",
       "      <th></th>\n",
       "      <th>resource_state</th>\n",
       "      <th>athlete</th>\n",
       "      <th>name</th>\n",
       "      <th>distance</th>\n",
       "      <th>moving_time</th>\n",
       "      <th>elapsed_time</th>\n",
       "      <th>total_elevation_gain</th>\n",
       "      <th>type</th>\n",
       "      <th>workout_type</th>\n",
       "      <th>first_name</th>\n",
       "      <th>last_name</th>\n",
       "    </tr>\n",
       "  </thead>\n",
       "  <tbody>\n",
       "    <tr>\n",
       "      <th>78</th>\n",
       "      <td>2</td>\n",
       "      <td>{'resource_state': 2, 'firstname': 'Tali', 'la...</td>\n",
       "      <td>Catching up from sick days!</td>\n",
       "      <td>4833.4</td>\n",
       "      <td>1622</td>\n",
       "      <td>1691</td>\n",
       "      <td>56.5</td>\n",
       "      <td>Run</td>\n",
       "      <td>0.0</td>\n",
       "      <td>Tali</td>\n",
       "      <td>L.</td>\n",
       "    </tr>\n",
       "    <tr>\n",
       "      <th>79</th>\n",
       "      <td>2</td>\n",
       "      <td>{'resource_state': 2, 'firstname': 'Jannah', '...</td>\n",
       "      <td>Gorgeous day!</td>\n",
       "      <td>5648.7</td>\n",
       "      <td>2195</td>\n",
       "      <td>2205</td>\n",
       "      <td>7.6</td>\n",
       "      <td>Run</td>\n",
       "      <td>0.0</td>\n",
       "      <td>Jannah</td>\n",
       "      <td>K.</td>\n",
       "    </tr>\n",
       "    <tr>\n",
       "      <th>80</th>\n",
       "      <td>2</td>\n",
       "      <td>{'resource_state': 2, 'firstname': 'Steven', '...</td>\n",
       "      <td>Post Shabbat indoor track</td>\n",
       "      <td>5632.7</td>\n",
       "      <td>1933</td>\n",
       "      <td>1933</td>\n",
       "      <td>0.0</td>\n",
       "      <td>Run</td>\n",
       "      <td>0.0</td>\n",
       "      <td>Steven</td>\n",
       "      <td>L.</td>\n",
       "    </tr>\n",
       "    <tr>\n",
       "      <th>81</th>\n",
       "      <td>2</td>\n",
       "      <td>{'resource_state': 2, 'firstname': 'N', 'lastn...</td>\n",
       "      <td>Run from gym to TJ</td>\n",
       "      <td>757.8</td>\n",
       "      <td>237</td>\n",
       "      <td>246</td>\n",
       "      <td>0.0</td>\n",
       "      <td>Run</td>\n",
       "      <td>0.0</td>\n",
       "      <td>N</td>\n",
       "      <td>F.</td>\n",
       "    </tr>\n",
       "    <tr>\n",
       "      <th>82</th>\n",
       "      <td>2</td>\n",
       "      <td>{'resource_state': 2, 'firstname': 'N', 'lastn...</td>\n",
       "      <td>Run to gym</td>\n",
       "      <td>820.7</td>\n",
       "      <td>265</td>\n",
       "      <td>270</td>\n",
       "      <td>3.9</td>\n",
       "      <td>Run</td>\n",
       "      <td>0.0</td>\n",
       "      <td>N</td>\n",
       "      <td>F.</td>\n",
       "    </tr>\n",
       "  </tbody>\n",
       "</table>\n",
       "</div>"
      ],
      "text/plain": [
       "    resource_state                                            athlete  \\\n",
       "78               2  {'resource_state': 2, 'firstname': 'Tali', 'la...   \n",
       "79               2  {'resource_state': 2, 'firstname': 'Jannah', '...   \n",
       "80               2  {'resource_state': 2, 'firstname': 'Steven', '...   \n",
       "81               2  {'resource_state': 2, 'firstname': 'N', 'lastn...   \n",
       "82               2  {'resource_state': 2, 'firstname': 'N', 'lastn...   \n",
       "\n",
       "                           name  distance  moving_time  elapsed_time  \\\n",
       "78  Catching up from sick days!    4833.4         1622          1691   \n",
       "79                Gorgeous day!    5648.7         2195          2205   \n",
       "80   Post Shabbat indoor track     5632.7         1933          1933   \n",
       "81           Run from gym to TJ     757.8          237           246   \n",
       "82                   Run to gym     820.7          265           270   \n",
       "\n",
       "    total_elevation_gain type  workout_type first_name last_name  \n",
       "78                  56.5  Run           0.0       Tali        L.  \n",
       "79                   7.6  Run           0.0     Jannah        K.  \n",
       "80                   0.0  Run           0.0     Steven        L.  \n",
       "81                   0.0  Run           0.0          N        F.  \n",
       "82                   3.9  Run           0.0          N        F.  "
      ]
     },
     "execution_count": 1221,
     "metadata": {},
     "output_type": "execute_result"
    }
   ],
   "source": [
    "clubs.tail()"
   ]
  },
  {
   "cell_type": "code",
   "execution_count": 1219,
   "metadata": {},
   "outputs": [
    {
     "data": {
      "text/html": [
       "<div>\n",
       "<style scoped>\n",
       "    .dataframe tbody tr th:only-of-type {\n",
       "        vertical-align: middle;\n",
       "    }\n",
       "\n",
       "    .dataframe tbody tr th {\n",
       "        vertical-align: top;\n",
       "    }\n",
       "\n",
       "    .dataframe thead th {\n",
       "        text-align: right;\n",
       "    }\n",
       "</style>\n",
       "<table border=\"1\" class=\"dataframe\">\n",
       "  <thead>\n",
       "    <tr style=\"text-align: right;\">\n",
       "      <th></th>\n",
       "      <th>first_name</th>\n",
       "      <th>activity_count</th>\n",
       "    </tr>\n",
       "  </thead>\n",
       "  <tbody>\n",
       "    <tr>\n",
       "      <th>3</th>\n",
       "      <td>Tali</td>\n",
       "      <td>26</td>\n",
       "    </tr>\n",
       "    <tr>\n",
       "      <th>1</th>\n",
       "      <td>N</td>\n",
       "      <td>25</td>\n",
       "    </tr>\n",
       "    <tr>\n",
       "      <th>2</th>\n",
       "      <td>Steven</td>\n",
       "      <td>17</td>\n",
       "    </tr>\n",
       "    <tr>\n",
       "      <th>0</th>\n",
       "      <td>Jannah</td>\n",
       "      <td>15</td>\n",
       "    </tr>\n",
       "  </tbody>\n",
       "</table>\n",
       "</div>"
      ],
      "text/plain": [
       "  first_name  activity_count\n",
       "3       Tali              26\n",
       "1          N              25\n",
       "2     Steven              17\n",
       "0     Jannah              15"
      ]
     },
     "execution_count": 1219,
     "metadata": {},
     "output_type": "execute_result"
    }
   ],
   "source": [
    "clubs[['first_name']].groupby('first_name').size().to_frame('activity_count').reset_index().sort_values('activity_count', ascending = False)\n"
   ]
  },
  {
   "cell_type": "code",
   "execution_count": 1220,
   "metadata": {},
   "outputs": [
    {
     "data": {
      "text/html": [
       "<div>\n",
       "<style scoped>\n",
       "    .dataframe tbody tr th:only-of-type {\n",
       "        vertical-align: middle;\n",
       "    }\n",
       "\n",
       "    .dataframe tbody tr th {\n",
       "        vertical-align: top;\n",
       "    }\n",
       "\n",
       "    .dataframe thead th {\n",
       "        text-align: right;\n",
       "    }\n",
       "</style>\n",
       "<table border=\"1\" class=\"dataframe\">\n",
       "  <thead>\n",
       "    <tr style=\"text-align: right;\">\n",
       "      <th></th>\n",
       "      <th>last_name</th>\n",
       "      <th>activity_count</th>\n",
       "    </tr>\n",
       "  </thead>\n",
       "  <tbody>\n",
       "    <tr>\n",
       "      <th>2</th>\n",
       "      <td>L.</td>\n",
       "      <td>43</td>\n",
       "    </tr>\n",
       "    <tr>\n",
       "      <th>0</th>\n",
       "      <td>F.</td>\n",
       "      <td>25</td>\n",
       "    </tr>\n",
       "    <tr>\n",
       "      <th>1</th>\n",
       "      <td>K.</td>\n",
       "      <td>15</td>\n",
       "    </tr>\n",
       "  </tbody>\n",
       "</table>\n",
       "</div>"
      ],
      "text/plain": [
       "  last_name  activity_count\n",
       "2        L.              43\n",
       "0        F.              25\n",
       "1        K.              15"
      ]
     },
     "execution_count": 1220,
     "metadata": {},
     "output_type": "execute_result"
    }
   ],
   "source": [
    "clubs[['last_name']].groupby('last_name').size().to_frame('activity_count').reset_index().sort_values('activity_count', ascending = False)"
   ]
  },
  {
   "cell_type": "code",
   "execution_count": null,
   "metadata": {},
   "outputs": [],
   "source": []
  },
  {
   "cell_type": "code",
   "execution_count": null,
   "metadata": {},
   "outputs": [],
   "source": []
  },
  {
   "cell_type": "code",
   "execution_count": null,
   "metadata": {},
   "outputs": [],
   "source": []
  },
  {
   "cell_type": "code",
   "execution_count": null,
   "metadata": {},
   "outputs": [],
   "source": []
  },
  {
   "cell_type": "code",
   "execution_count": null,
   "metadata": {},
   "outputs": [],
   "source": []
  }
 ],
 "metadata": {
  "kernelspec": {
   "display_name": "Python 3",
   "language": "python",
   "name": "python3"
  },
  "language_info": {
   "codemirror_mode": {
    "name": "ipython",
    "version": 3
   },
   "file_extension": ".py",
   "mimetype": "text/x-python",
   "name": "python",
   "nbconvert_exporter": "python",
   "pygments_lexer": "ipython3",
   "version": "3.7.7"
  }
 },
 "nbformat": 4,
 "nbformat_minor": 4
}
