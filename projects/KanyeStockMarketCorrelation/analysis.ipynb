{
 "cells": [
  {
   "cell_type": "code",
   "execution_count": 439,
   "metadata": {},
   "outputs": [],
   "source": [
    "import pandas as pd\n",
    "import numpy as np\n",
    "import pandas_datareader as web\n",
    "from datetime import datetime\n",
    "import matplotlib.pyplot as plt"
   ]
  },
  {
   "cell_type": "markdown",
   "metadata": {},
   "source": [
    "# pull stock market data #"
   ]
  },
  {
   "cell_type": "code",
   "execution_count": 456,
   "metadata": {},
   "outputs": [],
   "source": [
    "# define time paramaters for pulling market data\n",
    "start = datetime(2004, 2, 10) # date kanye's first studio album came out (The College Dropout)\n",
    "end = datetime(2019, 11, 25)# date kanye's latest studio album came out (Jesus Is King)\n",
    " \n",
    "# pull VTI data and store in dataframe\n",
    "df = web.DataReader(\"vti\", 'yahoo', start, end)"
   ]
  },
  {
   "cell_type": "code",
   "execution_count": 457,
   "metadata": {},
   "outputs": [
    {
     "data": {
      "text/html": [
       "<div>\n",
       "<style scoped>\n",
       "    .dataframe tbody tr th:only-of-type {\n",
       "        vertical-align: middle;\n",
       "    }\n",
       "\n",
       "    .dataframe tbody tr th {\n",
       "        vertical-align: top;\n",
       "    }\n",
       "\n",
       "    .dataframe thead th {\n",
       "        text-align: right;\n",
       "    }\n",
       "</style>\n",
       "<table border=\"1\" class=\"dataframe\">\n",
       "  <thead>\n",
       "    <tr style=\"text-align: right;\">\n",
       "      <th></th>\n",
       "      <th>Date</th>\n",
       "      <th>High</th>\n",
       "      <th>Low</th>\n",
       "      <th>Open</th>\n",
       "      <th>Close</th>\n",
       "      <th>Volume</th>\n",
       "      <th>Adj Close</th>\n",
       "      <th>Change</th>\n",
       "    </tr>\n",
       "  </thead>\n",
       "  <tbody>\n",
       "    <tr>\n",
       "      <th>0</th>\n",
       "      <td>2004-02-10</td>\n",
       "      <td>55.465000</td>\n",
       "      <td>55.000000</td>\n",
       "      <td>55.150002</td>\n",
       "      <td>55.395000</td>\n",
       "      <td>133600.0</td>\n",
       "      <td>40.496407</td>\n",
       "      <td>0.004442</td>\n",
       "    </tr>\n",
       "    <tr>\n",
       "      <th>1</th>\n",
       "      <td>2004-02-11</td>\n",
       "      <td>55.990002</td>\n",
       "      <td>55.224998</td>\n",
       "      <td>55.400002</td>\n",
       "      <td>55.855000</td>\n",
       "      <td>341400.0</td>\n",
       "      <td>40.832680</td>\n",
       "      <td>0.008213</td>\n",
       "    </tr>\n",
       "    <tr>\n",
       "      <th>2</th>\n",
       "      <td>2004-02-12</td>\n",
       "      <td>55.950001</td>\n",
       "      <td>55.654999</td>\n",
       "      <td>55.950001</td>\n",
       "      <td>55.705002</td>\n",
       "      <td>200400.0</td>\n",
       "      <td>40.723026</td>\n",
       "      <td>-0.004379</td>\n",
       "    </tr>\n",
       "    <tr>\n",
       "      <th>3</th>\n",
       "      <td>2004-02-13</td>\n",
       "      <td>55.875000</td>\n",
       "      <td>55.255001</td>\n",
       "      <td>55.820000</td>\n",
       "      <td>55.419998</td>\n",
       "      <td>209000.0</td>\n",
       "      <td>40.514675</td>\n",
       "      <td>-0.007166</td>\n",
       "    </tr>\n",
       "    <tr>\n",
       "      <th>4</th>\n",
       "      <td>2004-02-17</td>\n",
       "      <td>56.000000</td>\n",
       "      <td>55.705002</td>\n",
       "      <td>55.799999</td>\n",
       "      <td>56.000000</td>\n",
       "      <td>298000.0</td>\n",
       "      <td>40.938690</td>\n",
       "      <td>0.003584</td>\n",
       "    </tr>\n",
       "  </tbody>\n",
       "</table>\n",
       "</div>"
      ],
      "text/plain": [
       "        Date       High        Low       Open      Close    Volume  Adj Close  \\\n",
       "0 2004-02-10  55.465000  55.000000  55.150002  55.395000  133600.0  40.496407   \n",
       "1 2004-02-11  55.990002  55.224998  55.400002  55.855000  341400.0  40.832680   \n",
       "2 2004-02-12  55.950001  55.654999  55.950001  55.705002  200400.0  40.723026   \n",
       "3 2004-02-13  55.875000  55.255001  55.820000  55.419998  209000.0  40.514675   \n",
       "4 2004-02-17  56.000000  55.705002  55.799999  56.000000  298000.0  40.938690   \n",
       "\n",
       "     Change  \n",
       "0  0.004442  \n",
       "1  0.008213  \n",
       "2 -0.004379  \n",
       "3 -0.007166  \n",
       "4  0.003584  "
      ]
     },
     "execution_count": 457,
     "metadata": {},
     "output_type": "execute_result"
    }
   ],
   "source": [
    "# make 'Date' a column, not index\n",
    "df.reset_index(inplace = True) \n",
    "df['Date'] = pd.to_datetime(df['Date']) \n",
    "\n",
    "# add colum for 'Change', showing how the asset's performance changed throughout each market session\n",
    "df['Change'] = (df['Close'] - df['Open']) / df['Open']\n",
    "\n",
    "# preview results\n",
    "df.head()"
   ]
  },
  {
   "cell_type": "markdown",
   "metadata": {},
   "source": [
    "# kanye album data #"
   ]
  },
  {
   "cell_type": "code",
   "execution_count": 469,
   "metadata": {},
   "outputs": [],
   "source": [
    "# create dictionary with album names and release dates\n",
    "kanye_dict = {'The College Dropout' : '2004-02-10',\n",
    "    'Late Registration' : '2005-08-30',\n",
    "    'Graduation' : '2007-09-11',\n",
    "    '808s & Heartbreak' : '2008-11-24',\n",
    "    'My Beautiful Dark Twisted Fantasy' : '2010-11-22',\n",
    "    'Yeezus' : '2013-06-18',\n",
    "    'The Life of Pablo' : '2016-02-16',\n",
    "    'Ye' : '2018-06-01',\n",
    "    'Jesus Is King' : '2019-10-25'}\n",
    "\n",
    "# convert release dates to datetime format\n",
    "for values in kanye_dict: \n",
    "        kanye_dict[values] = datetime.strptime(kanye_dict[values], \"%Y-%m-%d\") "
   ]
  },
  {
   "cell_type": "code",
   "execution_count": 470,
   "metadata": {},
   "outputs": [],
   "source": [
    "# convert kanye dictionary into dataframe\n",
    "kanye_df = pd.DataFrame.from_dict(kanye_dict, orient='index', columns=['release_date']).reset_index()\n",
    "\n",
    "# rename column\n",
    "kanye_df.rename(columns = {'index':'album_name'}, inplace = True)"
   ]
  },
  {
   "cell_type": "markdown",
   "metadata": {},
   "source": [
    "# market performance when kanye releases an album #"
   ]
  },
  {
   "cell_type": "code",
   "execution_count": 471,
   "metadata": {},
   "outputs": [
    {
     "data": {
      "text/html": [
       "<div>\n",
       "<style scoped>\n",
       "    .dataframe tbody tr th:only-of-type {\n",
       "        vertical-align: middle;\n",
       "    }\n",
       "\n",
       "    .dataframe tbody tr th {\n",
       "        vertical-align: top;\n",
       "    }\n",
       "\n",
       "    .dataframe thead th {\n",
       "        text-align: right;\n",
       "    }\n",
       "</style>\n",
       "<table border=\"1\" class=\"dataframe\">\n",
       "  <thead>\n",
       "    <tr style=\"text-align: right;\">\n",
       "      <th></th>\n",
       "      <th>Date</th>\n",
       "      <th>High</th>\n",
       "      <th>Low</th>\n",
       "      <th>Open</th>\n",
       "      <th>Close</th>\n",
       "      <th>Volume</th>\n",
       "      <th>Adj Close</th>\n",
       "      <th>Change</th>\n",
       "      <th>album_name</th>\n",
       "    </tr>\n",
       "  </thead>\n",
       "  <tbody>\n",
       "    <tr>\n",
       "      <th>0</th>\n",
       "      <td>2004-02-10</td>\n",
       "      <td>55.465000</td>\n",
       "      <td>55.000000</td>\n",
       "      <td>55.150002</td>\n",
       "      <td>55.395000</td>\n",
       "      <td>133600.0</td>\n",
       "      <td>40.496407</td>\n",
       "      <td>0.004442</td>\n",
       "      <td>The College Dropout</td>\n",
       "    </tr>\n",
       "    <tr>\n",
       "      <th>1</th>\n",
       "      <td>2005-08-30</td>\n",
       "      <td>59.740002</td>\n",
       "      <td>59.384998</td>\n",
       "      <td>59.685001</td>\n",
       "      <td>59.715000</td>\n",
       "      <td>269400.0</td>\n",
       "      <td>44.724731</td>\n",
       "      <td>0.000503</td>\n",
       "      <td>Late Registration</td>\n",
       "    </tr>\n",
       "    <tr>\n",
       "      <th>2</th>\n",
       "      <td>2007-09-11</td>\n",
       "      <td>73.129997</td>\n",
       "      <td>72.394997</td>\n",
       "      <td>72.400002</td>\n",
       "      <td>73.099998</td>\n",
       "      <td>636800.0</td>\n",
       "      <td>56.739326</td>\n",
       "      <td>0.009668</td>\n",
       "      <td>Graduation</td>\n",
       "    </tr>\n",
       "    <tr>\n",
       "      <th>3</th>\n",
       "      <td>2008-11-24</td>\n",
       "      <td>42.490002</td>\n",
       "      <td>39.680000</td>\n",
       "      <td>40.000000</td>\n",
       "      <td>41.630001</td>\n",
       "      <td>42316200.0</td>\n",
       "      <td>33.095093</td>\n",
       "      <td>0.040750</td>\n",
       "      <td>808s &amp; Heartbreak</td>\n",
       "    </tr>\n",
       "    <tr>\n",
       "      <th>4</th>\n",
       "      <td>2010-11-22</td>\n",
       "      <td>61.820000</td>\n",
       "      <td>61.090000</td>\n",
       "      <td>61.520000</td>\n",
       "      <td>61.820000</td>\n",
       "      <td>2431800.0</td>\n",
       "      <td>51.377399</td>\n",
       "      <td>0.004876</td>\n",
       "      <td>My Beautiful Dark Twisted Fantasy</td>\n",
       "    </tr>\n",
       "    <tr>\n",
       "      <th>5</th>\n",
       "      <td>2013-06-18</td>\n",
       "      <td>85.519997</td>\n",
       "      <td>84.790001</td>\n",
       "      <td>84.790001</td>\n",
       "      <td>85.330002</td>\n",
       "      <td>2095100.0</td>\n",
       "      <td>74.615440</td>\n",
       "      <td>0.006369</td>\n",
       "      <td>Yeezus</td>\n",
       "    </tr>\n",
       "    <tr>\n",
       "      <th>6</th>\n",
       "      <td>2016-02-16</td>\n",
       "      <td>96.089996</td>\n",
       "      <td>94.959999</td>\n",
       "      <td>95.620003</td>\n",
       "      <td>96.080002</td>\n",
       "      <td>3577700.0</td>\n",
       "      <td>88.569595</td>\n",
       "      <td>0.004811</td>\n",
       "      <td>The Life of Pablo</td>\n",
       "    </tr>\n",
       "    <tr>\n",
       "      <th>7</th>\n",
       "      <td>2018-06-01</td>\n",
       "      <td>141.649994</td>\n",
       "      <td>140.759995</td>\n",
       "      <td>140.929993</td>\n",
       "      <td>141.500000</td>\n",
       "      <td>1857800.0</td>\n",
       "      <td>136.103271</td>\n",
       "      <td>0.004045</td>\n",
       "      <td>Ye</td>\n",
       "    </tr>\n",
       "    <tr>\n",
       "      <th>8</th>\n",
       "      <td>2019-10-25</td>\n",
       "      <td>153.759995</td>\n",
       "      <td>152.419998</td>\n",
       "      <td>152.490005</td>\n",
       "      <td>153.449997</td>\n",
       "      <td>2461600.0</td>\n",
       "      <td>151.868057</td>\n",
       "      <td>0.006295</td>\n",
       "      <td>Jesus Is King</td>\n",
       "    </tr>\n",
       "  </tbody>\n",
       "</table>\n",
       "</div>"
      ],
      "text/plain": [
       "        Date        High         Low        Open       Close      Volume  \\\n",
       "0 2004-02-10   55.465000   55.000000   55.150002   55.395000    133600.0   \n",
       "1 2005-08-30   59.740002   59.384998   59.685001   59.715000    269400.0   \n",
       "2 2007-09-11   73.129997   72.394997   72.400002   73.099998    636800.0   \n",
       "3 2008-11-24   42.490002   39.680000   40.000000   41.630001  42316200.0   \n",
       "4 2010-11-22   61.820000   61.090000   61.520000   61.820000   2431800.0   \n",
       "5 2013-06-18   85.519997   84.790001   84.790001   85.330002   2095100.0   \n",
       "6 2016-02-16   96.089996   94.959999   95.620003   96.080002   3577700.0   \n",
       "7 2018-06-01  141.649994  140.759995  140.929993  141.500000   1857800.0   \n",
       "8 2019-10-25  153.759995  152.419998  152.490005  153.449997   2461600.0   \n",
       "\n",
       "    Adj Close    Change                         album_name  \n",
       "0   40.496407  0.004442                The College Dropout  \n",
       "1   44.724731  0.000503                  Late Registration  \n",
       "2   56.739326  0.009668                         Graduation  \n",
       "3   33.095093  0.040750                  808s & Heartbreak  \n",
       "4   51.377399  0.004876  My Beautiful Dark Twisted Fantasy  \n",
       "5   74.615440  0.006369                             Yeezus  \n",
       "6   88.569595  0.004811                  The Life of Pablo  \n",
       "7  136.103271  0.004045                                 Ye  \n",
       "8  151.868057  0.006295                      Jesus Is King  "
      ]
     },
     "execution_count": 471,
     "metadata": {},
     "output_type": "execute_result"
    }
   ],
   "source": [
    "# merge the 2 dataframes on common dates to isolate market data for days that a kanye album was released\n",
    "market_album_df = df.merge(kanye_df, how = 'inner', left_on = 'Date', right_on = 'release_date').drop(columns = 'release_date')\n",
    "market_album_df"
   ]
  },
  {
   "cell_type": "markdown",
   "metadata": {},
   "source": [
    "### visualization ###"
   ]
  },
  {
   "cell_type": "code",
   "execution_count": 472,
   "metadata": {},
   "outputs": [
    {
     "data": {
      "image/png": "[encoded data removed]",
      "text/plain": [
       "<Figure size 1440x720 with 2 Axes>"
      ]
     },
     "metadata": {
      "needs_background": "light"
     },
     "output_type": "display_data"
    }
   ],
   "source": [
    "# chart formatting\n",
    "fig, axes = plt.subplots(nrows=1, ncols=2, figsize=(20, 10))\n",
    "\n",
    "# create 2 versions of the dataset (sorted differently)\n",
    "df_plot_1a = market_album_df\n",
    "df_plot_1b = market_album_df.sort_values('Change', ascending = False)\n",
    "\n",
    "# grab just the series we need\n",
    "x1 = df_plot_1a['album_name']\n",
    "y1 = df_plot_1a['Change'] * 100.00\n",
    "\n",
    "x2 = df_plot_1b['album_name']\n",
    "y2 = df_plot_1b['Change'] * 100.00\n",
    "\n",
    "# plots\n",
    "axes[0].bar(x1, y1)\n",
    "axes[1].bar(x2, y2)\n",
    "\n",
    "\n",
    "# chart title\n",
    "axes[0].set_title('VTI Daily Return on Kanye Album Release Dates')\n",
    "axes[1].set_title('Sorted by Daily Return in Descending Order')\n",
    "\n",
    "# axis titles\n",
    "for ax in axes.flat:\n",
    "    ax.set(xlabel='Album', ylabel='VTI Percent Daily Return')\n",
    "\n",
    "# axis formatting\n",
    "for ax in fig.axes:\n",
    "    plt.sca(ax)\n",
    "    plt.xticks(fontsize=14, rotation=90)\n",
    "    plt.yticks(fontsize=16)\n",
    "    \n",
    "# label sizes\n",
    "plt.rcParams.update({'font.size': 16})\n",
    "\n",
    "fig.tight_layout()"
   ]
  },
  {
   "cell_type": "markdown",
   "metadata": {},
   "source": [
    "# comparing kanye album release dates with other dates #"
   ]
  },
  {
   "cell_type": "code",
   "execution_count": 473,
   "metadata": {},
   "outputs": [
    {
     "name": "stdout",
     "output_type": "stream",
     "text": [
      "2004-02-10 00:00:00\n",
      "2005-08-30 00:00:00\n",
      "2007-09-11 00:00:00\n",
      "2008-11-24 00:00:00\n",
      "2010-11-22 00:00:00\n",
      "2013-06-18 00:00:00\n",
      "2016-02-16 00:00:00\n",
      "2018-06-01 00:00:00\n",
      "2019-10-25 00:00:00\n"
     ]
    }
   ],
   "source": [
    "# get list of the kanye's album release dates\n",
    "release_dates = kanye_dict.values()\n",
    "\n",
    "# show dates\n",
    "for i in release_dates:\n",
    "    print(i)"
   ]
  },
  {
   "cell_type": "code",
   "execution_count": 474,
   "metadata": {},
   "outputs": [
    {
     "data": {
      "text/plain": [
       "3968"
      ]
     },
     "execution_count": 474,
     "metadata": {},
     "output_type": "execute_result"
    }
   ],
   "source": [
    "# number of market sessions in analysis period where kanye did not release an album\n",
    "market_sessions = df[df['Date'].isin(release_dates) == False]\n",
    "len(market_sessions)"
   ]
  },
  {
   "cell_type": "code",
   "execution_count": 475,
   "metadata": {},
   "outputs": [
    {
     "data": {
      "text/plain": [
       "2060"
      ]
     },
     "execution_count": 475,
     "metadata": {},
     "output_type": "execute_result"
    }
   ],
   "source": [
    "# number of market sessions in analysis period where kanye did not release an album AND VTI had a positive return\n",
    "market_sessions_positive = (market_sessions[(market_sessions['Change'] > 0)])\n",
    "len(market_sessions_positive)"
   ]
  },
  {
   "cell_type": "code",
   "execution_count": 476,
   "metadata": {},
   "outputs": [
    {
     "name": "stdout",
     "output_type": "stream",
     "text": [
      "0.5191532258064516\n"
     ]
    }
   ],
   "source": [
    "# percent of dates where VTI had a positive return \n",
    "pct_positive = len(market_sessions_positive) / len(market_sessions)\n",
    "print(pct_positive)"
   ]
  },
  {
   "cell_type": "markdown",
   "metadata": {},
   "source": [
    "### dataframe construction ###"
   ]
  },
  {
   "cell_type": "code",
   "execution_count": 477,
   "metadata": {},
   "outputs": [
    {
     "data": {
      "text/html": [
       "<div>\n",
       "<style scoped>\n",
       "    .dataframe tbody tr th:only-of-type {\n",
       "        vertical-align: middle;\n",
       "    }\n",
       "\n",
       "    .dataframe tbody tr th {\n",
       "        vertical-align: top;\n",
       "    }\n",
       "\n",
       "    .dataframe thead th {\n",
       "        text-align: right;\n",
       "    }\n",
       "</style>\n",
       "<table border=\"1\" class=\"dataframe\">\n",
       "  <thead>\n",
       "    <tr style=\"text-align: right;\">\n",
       "      <th></th>\n",
       "      <th>Did Kanye Release an Album?</th>\n",
       "      <th>% of Dates VTI is Positve</th>\n",
       "    </tr>\n",
       "  </thead>\n",
       "  <tbody>\n",
       "    <tr>\n",
       "      <th>0</th>\n",
       "      <td>Yes</td>\n",
       "      <td>1</td>\n",
       "    </tr>\n",
       "    <tr>\n",
       "      <th>1</th>\n",
       "      <td>No</td>\n",
       "      <td>0.519153</td>\n",
       "    </tr>\n",
       "  </tbody>\n",
       "</table>\n",
       "</div>"
      ],
      "text/plain": [
       "  Did Kanye Release an Album? % of Dates VTI is Positve\n",
       "0                         Yes                         1\n",
       "1                          No                  0.519153"
      ]
     },
     "execution_count": 477,
     "metadata": {},
     "output_type": "execute_result"
    }
   ],
   "source": [
    "# create dataframe\n",
    "df_viz = pd.DataFrame(columns = ['Did Kanye Release an Album?','% of Dates VTI is Positve'])\n",
    "\n",
    "# add in values for column 'Did Kanye Release an Album?'\n",
    "df_viz.loc[0,'Did Kanye Release an Album?'] = 'Yes'\n",
    "df_viz.loc[1,'Did Kanye Release an Album?'] = 'No'\n",
    "\n",
    "# add in values for column '% of Dates VTI is Positve'\n",
    "df_viz.loc[0,'% of Dates VTI is Positve'] = 1.00\n",
    "df_viz.loc[1,'% of Dates VTI is Positve'] = pct_positive\n",
    "\n",
    "# show dataframe\n",
    "df_viz"
   ]
  },
  {
   "cell_type": "markdown",
   "metadata": {},
   "source": [
    "### visualization ###"
   ]
  },
  {
   "cell_type": "code",
   "execution_count": 479,
   "metadata": {},
   "outputs": [
    {
     "data": {
      "image/png": "[encoded data removed]",
      "text/plain": [
       "<Figure size 576x432 with 1 Axes>"
      ]
     },
     "metadata": {
      "needs_background": "light"
     },
     "output_type": "display_data"
    }
   ],
   "source": [
    "# setup\n",
    "released_album_option_set = df_viz['Did Kanye Release an Album?']\n",
    "y_pos = np.arange(len(released_album_option_set))\n",
    "vti_performnce = df_viz['% of Dates VTI is Positve']\n",
    "\n",
    "# plotting\n",
    "plt.bar(y_pos, vti_performnce, align='center', alpha=0.5)\n",
    "plt.xticks(y_pos, released_album_option_set)\n",
    "plt.ylabel('% of Market Sessions VTI is Positive')\n",
    "plt.title('VTI is ~2X More Likely to Have a Positive Return When Kayne Releases an Album')\n",
    "\n",
    "# show plot\n",
    "plt.show()\n",
    "\n",
    "# chart sizing\n",
    "plt.rcParams[\"figure.figsize\"] = (8,6)\n",
    "\n",
    "# set text size\n",
    "plt.rc('font', size=12)"
   ]
  }
 ],
 "metadata": {
  "kernelspec": {
   "display_name": "Python 3",
   "language": "python",
   "name": "python3"
  },
  "language_info": {
   "codemirror_mode": {
    "name": "ipython",
    "version": 3
   },
   "file_extension": ".py",
   "mimetype": "text/x-python",
   "name": "python",
   "nbconvert_exporter": "python",
   "pygments_lexer": "ipython3",
   "version": "3.7.7"
  }
 },
 "nbformat": 4,
 "nbformat_minor": 4
}
