{
 "cells": [
  {
   "cell_type": "code",
   "execution_count": 39,
   "metadata": {},
   "outputs": [],
   "source": [
    "# h/t to this tutorial for helping me get started \n",
    "# https://marcobonzanini.com/2015/03/02/mining-twitter-data-with-python-part-1/"
   ]
  },
  {
   "cell_type": "code",
   "execution_count": 40,
   "metadata": {},
   "outputs": [],
   "source": [
    "import tweepy\n",
    "from tweepy import OAuthHandler\n",
    "import pandas as pd\n",
    "import numpy as np\n",
    "from dateutil import parser"
   ]
  },
  {
   "cell_type": "markdown",
   "metadata": {},
   "source": [
    "## establish api connection ##"
   ]
  },
  {
   "cell_type": "code",
   "execution_count": 41,
   "metadata": {},
   "outputs": [],
   "source": [
    "consumer_key = [ENTER CONSUMER_KEY]\n",
    "consumer_secret = [ENTER CONSUMER_SECRET]\n",
    "access_token = [ENTER ACESS_TOKEN]\n",
    "access_secret = [ENTER ACESS_SECRET]\n",
    " \n",
    "auth = OAuthHandler(consumer_key, consumer_secret)\n",
    "auth.set_access_token(access_token, access_secret)\n",
    " \n",
    "api = tweepy.API(auth)"
   ]
  },
  {
   "cell_type": "markdown",
   "metadata": {},
   "source": [
    "## pull and store all of my account's twitter activity ##"
   ]
  },
  {
   "cell_type": "code",
   "execution_count": 42,
   "metadata": {},
   "outputs": [],
   "source": [
    "my_tweets = []\n",
    "\n",
    "for tweet in tweepy.Cursor(api.user_timeline).items():\n",
    "    my_tweets.append(tweet._json)"
   ]
  },
  {
   "cell_type": "code",
   "execution_count": 43,
   "metadata": {},
   "outputs": [],
   "source": [
    "my_tweets_df = pd.DataFrame()\n",
    "\n",
    "for i in range(len(my_tweets)):\n",
    "    # basic tweet info #\n",
    "    my_tweets_df.loc[i,'tweet_id'] = str(my_tweets[i]['id'])\n",
    "    my_tweets_df.loc[i,'user'] = my_tweets[i]['user']['screen_name']\n",
    "    my_tweets_df.loc[i,'source'] = my_tweets[i]['source']\n",
    "    # date #\n",
    "    my_tweets_df.loc[i,'created_at'] = my_tweets[i]['created_at']\n",
    "    my_tweets_df.loc[i,'datetime'] = parser.parse(my_tweets[i]['created_at']) # dete parsing\n",
    "    my_tweets_df.loc[i,'year_month'] = my_tweets_df['datetime'][i].strftime(\"%Y-%m\") # YYYY-MM format\n",
    "    # tweet content #\n",
    "    my_tweets_df.loc[i,'text'] = my_tweets[i]['text']\n",
    "    # user created columns #\n",
    "    my_tweets_df.loc[i,'is_comment'] = not not my_tweets[i]['in_reply_to_status_id']\n",
    "    my_tweets_df.loc[i,'is_retweet'] = 'RT @' in my_tweets[i]['text']    \n",
    "\n",
    "# sort df datetime\n",
    "my_tweets_df = my_tweets_df.sort_values('datetime')    "
   ]
  },
  {
   "cell_type": "markdown",
   "metadata": {},
   "source": [
    "#### comments and retweets are mutually exclusive in the dataset ####"
   ]
  },
  {
   "cell_type": "code",
   "execution_count": 44,
   "metadata": {},
   "outputs": [
    {
     "data": {
      "text/html": [
       "<div>\n",
       "<style scoped>\n",
       "    .dataframe tbody tr th:only-of-type {\n",
       "        vertical-align: middle;\n",
       "    }\n",
       "\n",
       "    .dataframe tbody tr th {\n",
       "        vertical-align: top;\n",
       "    }\n",
       "\n",
       "    .dataframe thead th {\n",
       "        text-align: right;\n",
       "    }\n",
       "</style>\n",
       "<table border=\"1\" class=\"dataframe\">\n",
       "  <thead>\n",
       "    <tr style=\"text-align: right;\">\n",
       "      <th></th>\n",
       "      <th>tweet_id</th>\n",
       "      <th>user</th>\n",
       "      <th>source</th>\n",
       "      <th>created_at</th>\n",
       "      <th>datetime</th>\n",
       "      <th>year_month</th>\n",
       "      <th>text</th>\n",
       "      <th>is_comment</th>\n",
       "      <th>is_retweet</th>\n",
       "    </tr>\n",
       "  </thead>\n",
       "  <tbody>\n",
       "  </tbody>\n",
       "</table>\n",
       "</div>"
      ],
      "text/plain": [
       "Empty DataFrame\n",
       "Columns: [tweet_id, user, source, created_at, datetime, year_month, text, is_comment, is_retweet]\n",
       "Index: []"
      ]
     },
     "execution_count": 44,
     "metadata": {},
     "output_type": "execute_result"
    }
   ],
   "source": [
    "my_tweets_df[(my_tweets_df['is_comment'] == True) & (my_tweets_df['is_retweet'] == True)]"
   ]
  },
  {
   "cell_type": "markdown",
   "metadata": {},
   "source": [
    "#### breakout twitter actvity by type: tweet, retweet, or comment ####"
   ]
  },
  {
   "cell_type": "code",
   "execution_count": 45,
   "metadata": {},
   "outputs": [
    {
     "data": {
      "text/plain": [
       "tweet_type\n",
       "comment    147\n",
       "retweet    187\n",
       "tweet      133\n",
       "dtype: int64"
      ]
     },
     "execution_count": 45,
     "metadata": {},
     "output_type": "execute_result"
    }
   ],
   "source": [
    "my_tweets_df['tweet_type'] = np.where(my_tweets_df['is_comment'] == True, 'comment',\n",
    "                                     np.where(my_tweets_df['is_retweet'] == True, 'retweet','tweet'))\n",
    "\n",
    "my_tweets_df[['tweet_type']].groupby('tweet_type').size()"
   ]
  },
  {
   "cell_type": "markdown",
   "metadata": {},
   "source": [
    "## inspect dataframe info and data ##"
   ]
  },
  {
   "cell_type": "code",
   "execution_count": 46,
   "metadata": {},
   "outputs": [
    {
     "name": "stdout",
     "output_type": "stream",
     "text": [
      "<class 'pandas.core.frame.DataFrame'>\n",
      "Int64Index: 467 entries, 466 to 0\n",
      "Data columns (total 10 columns):\n",
      " #   Column      Non-Null Count  Dtype \n",
      "---  ------      --------------  ----- \n",
      " 0   tweet_id    467 non-null    object\n",
      " 1   user        467 non-null    object\n",
      " 2   source      467 non-null    object\n",
      " 3   created_at  467 non-null    object\n",
      " 4   datetime    467 non-null    object\n",
      " 5   year_month  467 non-null    object\n",
      " 6   text        467 non-null    object\n",
      " 7   is_comment  467 non-null    object\n",
      " 8   is_retweet  467 non-null    object\n",
      " 9   tweet_type  467 non-null    object\n",
      "dtypes: object(10)\n",
      "memory usage: 40.1+ KB\n"
     ]
    }
   ],
   "source": [
    "my_tweets_df.info()"
   ]
  },
  {
   "cell_type": "code",
   "execution_count": 47,
   "metadata": {},
   "outputs": [
    {
     "data": {
      "text/html": [
       "<div>\n",
       "<style scoped>\n",
       "    .dataframe tbody tr th:only-of-type {\n",
       "        vertical-align: middle;\n",
       "    }\n",
       "\n",
       "    .dataframe tbody tr th {\n",
       "        vertical-align: top;\n",
       "    }\n",
       "\n",
       "    .dataframe thead th {\n",
       "        text-align: right;\n",
       "    }\n",
       "</style>\n",
       "<table border=\"1\" class=\"dataframe\">\n",
       "  <thead>\n",
       "    <tr style=\"text-align: right;\">\n",
       "      <th></th>\n",
       "      <th>tweet_id</th>\n",
       "      <th>user</th>\n",
       "      <th>source</th>\n",
       "      <th>created_at</th>\n",
       "      <th>datetime</th>\n",
       "      <th>year_month</th>\n",
       "      <th>text</th>\n",
       "      <th>is_comment</th>\n",
       "      <th>is_retweet</th>\n",
       "      <th>tweet_type</th>\n",
       "    </tr>\n",
       "  </thead>\n",
       "  <tbody>\n",
       "    <tr>\n",
       "      <th>466</th>\n",
       "      <td>850133406885216256</td>\n",
       "      <td>n_feifel</td>\n",
       "      <td>&lt;a href=\"http://twitter.com/download/iphone\" r...</td>\n",
       "      <td>Thu Apr 06 23:49:33 +0000 2017</td>\n",
       "      <td>2017-04-06 23:49:33+00:00</td>\n",
       "      <td>2017-04</td>\n",
       "      <td>Thanks @dzoldan for the tickets to @StandUpNY!...</td>\n",
       "      <td>False</td>\n",
       "      <td>False</td>\n",
       "      <td>tweet</td>\n",
       "    </tr>\n",
       "    <tr>\n",
       "      <th>465</th>\n",
       "      <td>859205162908483584</td>\n",
       "      <td>n_feifel</td>\n",
       "      <td>&lt;a href=\"http://twitter.com/download/iphone\" r...</td>\n",
       "      <td>Tue May 02 00:37:28 +0000 2017</td>\n",
       "      <td>2017-05-02 00:37:28+00:00</td>\n",
       "      <td>2017-05</td>\n",
       "      <td>Hey @Cubs, had a fun time cheering on the squa...</td>\n",
       "      <td>False</td>\n",
       "      <td>False</td>\n",
       "      <td>tweet</td>\n",
       "    </tr>\n",
       "    <tr>\n",
       "      <th>464</th>\n",
       "      <td>872438488364351488</td>\n",
       "      <td>n_feifel</td>\n",
       "      <td>&lt;a href=\"http://twitter.com\" rel=\"nofollow\"&gt;Tw...</td>\n",
       "      <td>Wed Jun 07 13:01:59 +0000 2017</td>\n",
       "      <td>2017-06-07 13:01:59+00:00</td>\n",
       "      <td>2017-06</td>\n",
       "      <td>RT @dkbaw: Come check out our Father's day Pop...</td>\n",
       "      <td>False</td>\n",
       "      <td>True</td>\n",
       "      <td>retweet</td>\n",
       "    </tr>\n",
       "    <tr>\n",
       "      <th>463</th>\n",
       "      <td>894026879577059328</td>\n",
       "      <td>n_feifel</td>\n",
       "      <td>&lt;a href=\"http://twitter.com/download/iphone\" r...</td>\n",
       "      <td>Sun Aug 06 02:46:32 +0000 2017</td>\n",
       "      <td>2017-08-06 02:46:32+00:00</td>\n",
       "      <td>2017-08</td>\n",
       "      <td>RT @Inc: How your business can profit from the...</td>\n",
       "      <td>False</td>\n",
       "      <td>True</td>\n",
       "      <td>retweet</td>\n",
       "    </tr>\n",
       "    <tr>\n",
       "      <th>462</th>\n",
       "      <td>899958507495202816</td>\n",
       "      <td>n_feifel</td>\n",
       "      <td>&lt;a href=\"http://twitter.com/download/iphone\" r...</td>\n",
       "      <td>Tue Aug 22 11:36:43 +0000 2017</td>\n",
       "      <td>2017-08-22 11:36:43+00:00</td>\n",
       "      <td>2017-08</td>\n",
       "      <td>RT @Inc: Traditional Networking Events Are Dea...</td>\n",
       "      <td>False</td>\n",
       "      <td>True</td>\n",
       "      <td>retweet</td>\n",
       "    </tr>\n",
       "  </tbody>\n",
       "</table>\n",
       "</div>"
      ],
      "text/plain": [
       "               tweet_id      user  \\\n",
       "466  850133406885216256  n_feifel   \n",
       "465  859205162908483584  n_feifel   \n",
       "464  872438488364351488  n_feifel   \n",
       "463  894026879577059328  n_feifel   \n",
       "462  899958507495202816  n_feifel   \n",
       "\n",
       "                                                source  \\\n",
       "466  <a href=\"http://twitter.com/download/iphone\" r...   \n",
       "465  <a href=\"http://twitter.com/download/iphone\" r...   \n",
       "464  <a href=\"http://twitter.com\" rel=\"nofollow\">Tw...   \n",
       "463  <a href=\"http://twitter.com/download/iphone\" r...   \n",
       "462  <a href=\"http://twitter.com/download/iphone\" r...   \n",
       "\n",
       "                         created_at                   datetime year_month  \\\n",
       "466  Thu Apr 06 23:49:33 +0000 2017  2017-04-06 23:49:33+00:00    2017-04   \n",
       "465  Tue May 02 00:37:28 +0000 2017  2017-05-02 00:37:28+00:00    2017-05   \n",
       "464  Wed Jun 07 13:01:59 +0000 2017  2017-06-07 13:01:59+00:00    2017-06   \n",
       "463  Sun Aug 06 02:46:32 +0000 2017  2017-08-06 02:46:32+00:00    2017-08   \n",
       "462  Tue Aug 22 11:36:43 +0000 2017  2017-08-22 11:36:43+00:00    2017-08   \n",
       "\n",
       "                                                  text is_comment is_retweet  \\\n",
       "466  Thanks @dzoldan for the tickets to @StandUpNY!...      False      False   \n",
       "465  Hey @Cubs, had a fun time cheering on the squa...      False      False   \n",
       "464  RT @dkbaw: Come check out our Father's day Pop...      False       True   \n",
       "463  RT @Inc: How your business can profit from the...      False       True   \n",
       "462  RT @Inc: Traditional Networking Events Are Dea...      False       True   \n",
       "\n",
       "    tweet_type  \n",
       "466      tweet  \n",
       "465      tweet  \n",
       "464    retweet  \n",
       "463    retweet  \n",
       "462    retweet  "
      ]
     },
     "execution_count": 47,
     "metadata": {},
     "output_type": "execute_result"
    }
   ],
   "source": [
    "my_tweets_df.head()"
   ]
  },
  {
   "cell_type": "markdown",
   "metadata": {},
   "source": [
    "#### most of my activity is on mobile ####"
   ]
  },
  {
   "cell_type": "code",
   "execution_count": 48,
   "metadata": {
    "scrolled": true
   },
   "outputs": [
    {
     "data": {
      "text/plain": [
       "source\n",
       "<a href=\"http://twitter.com\" rel=\"nofollow\">Twitter Web Client</a>                     71\n",
       "<a href=\"http://twitter.com/download/iphone\" rel=\"nofollow\">Twitter for iPhone</a>    384\n",
       "<a href=\"https://medium.com\" rel=\"nofollow\">Medium</a>                                  3\n",
       "<a href=\"https://mobile.twitter.com\" rel=\"nofollow\">Twitter Web App</a>                 9\n",
       "dtype: int64"
      ]
     },
     "execution_count": 48,
     "metadata": {},
     "output_type": "execute_result"
    }
   ],
   "source": [
    "my_tweets_df[['source']].groupby('source').size()"
   ]
  },
  {
   "cell_type": "markdown",
   "metadata": {},
   "source": [
    "## visualizing my activity ##"
   ]
  },
  {
   "cell_type": "code",
   "execution_count": 49,
   "metadata": {},
   "outputs": [],
   "source": [
    "# create list of months between my first and latest activity\n",
    "start_date = min(my_tweets_df['datetime']).strftime(\"%Y-%m-01\")\n",
    "end_date = max(my_tweets_df['datetime']).strftime(\"%Y-%m-01\")\n",
    "\n",
    "months = pd.date_range(start_date,end_date,\n",
    "              freq='MS').strftime(\"%Y-%m\").to_series().to_frame('year_month')"
   ]
  },
  {
   "cell_type": "code",
   "execution_count": 50,
   "metadata": {},
   "outputs": [],
   "source": [
    "# aggregate my activity by month\n",
    "data_to_plot = my_tweets_df[['tweet_id','year_month','tweet_type']].groupby(['year_month','tweet_type']).size().to_frame('count').reset_index()\n",
    "data_to_plot = months.merge(data_to_plot, how = 'left', left_on = 'year_month', right_on = 'year_month')\n",
    "\n",
    "data_to_plot['tweet_type'].fillna('tweet', inplace = True)"
   ]
  },
  {
   "cell_type": "code",
   "execution_count": 51,
   "metadata": {},
   "outputs": [
    {
     "data": {
      "text/html": [
       "<div>\n",
       "<style scoped>\n",
       "    .dataframe tbody tr th:only-of-type {\n",
       "        vertical-align: middle;\n",
       "    }\n",
       "\n",
       "    .dataframe tbody tr th {\n",
       "        vertical-align: top;\n",
       "    }\n",
       "\n",
       "    .dataframe thead th {\n",
       "        text-align: right;\n",
       "    }\n",
       "</style>\n",
       "<table border=\"1\" class=\"dataframe\">\n",
       "  <thead>\n",
       "    <tr style=\"text-align: right;\">\n",
       "      <th>tweet_type</th>\n",
       "      <th>comment</th>\n",
       "      <th>retweet</th>\n",
       "      <th>tweet</th>\n",
       "    </tr>\n",
       "    <tr>\n",
       "      <th>year_month</th>\n",
       "      <th></th>\n",
       "      <th></th>\n",
       "      <th></th>\n",
       "    </tr>\n",
       "  </thead>\n",
       "  <tbody>\n",
       "    <tr>\n",
       "      <th>2017-04</th>\n",
       "      <td>0.0</td>\n",
       "      <td>0.0</td>\n",
       "      <td>1.0</td>\n",
       "    </tr>\n",
       "    <tr>\n",
       "      <th>2017-05</th>\n",
       "      <td>0.0</td>\n",
       "      <td>0.0</td>\n",
       "      <td>1.0</td>\n",
       "    </tr>\n",
       "    <tr>\n",
       "      <th>2017-06</th>\n",
       "      <td>0.0</td>\n",
       "      <td>1.0</td>\n",
       "      <td>0.0</td>\n",
       "    </tr>\n",
       "    <tr>\n",
       "      <th>2017-07</th>\n",
       "      <td>0.0</td>\n",
       "      <td>0.0</td>\n",
       "      <td>0.0</td>\n",
       "    </tr>\n",
       "    <tr>\n",
       "      <th>2017-08</th>\n",
       "      <td>0.0</td>\n",
       "      <td>3.0</td>\n",
       "      <td>0.0</td>\n",
       "    </tr>\n",
       "    <tr>\n",
       "      <th>2017-09</th>\n",
       "      <td>1.0</td>\n",
       "      <td>4.0</td>\n",
       "      <td>3.0</td>\n",
       "    </tr>\n",
       "    <tr>\n",
       "      <th>2017-10</th>\n",
       "      <td>1.0</td>\n",
       "      <td>1.0</td>\n",
       "      <td>0.0</td>\n",
       "    </tr>\n",
       "    <tr>\n",
       "      <th>2017-11</th>\n",
       "      <td>1.0</td>\n",
       "      <td>1.0</td>\n",
       "      <td>5.0</td>\n",
       "    </tr>\n",
       "    <tr>\n",
       "      <th>2017-12</th>\n",
       "      <td>11.0</td>\n",
       "      <td>5.0</td>\n",
       "      <td>8.0</td>\n",
       "    </tr>\n",
       "    <tr>\n",
       "      <th>2018-01</th>\n",
       "      <td>13.0</td>\n",
       "      <td>31.0</td>\n",
       "      <td>30.0</td>\n",
       "    </tr>\n",
       "  </tbody>\n",
       "</table>\n",
       "</div>"
      ],
      "text/plain": [
       "tweet_type  comment  retweet  tweet\n",
       "year_month                         \n",
       "2017-04         0.0      0.0    1.0\n",
       "2017-05         0.0      0.0    1.0\n",
       "2017-06         0.0      1.0    0.0\n",
       "2017-07         0.0      0.0    0.0\n",
       "2017-08         0.0      3.0    0.0\n",
       "2017-09         1.0      4.0    3.0\n",
       "2017-10         1.0      1.0    0.0\n",
       "2017-11         1.0      1.0    5.0\n",
       "2017-12        11.0      5.0    8.0\n",
       "2018-01        13.0     31.0   30.0"
      ]
     },
     "execution_count": 51,
     "metadata": {},
     "output_type": "execute_result"
    }
   ],
   "source": [
    "# pivot data so it is in plotting format\n",
    "data_to_plot = data_to_plot.pivot_table(index = 'year_month', columns = 'tweet_type', values = 'count', aggfunc = np.sum).fillna(0)\n",
    "data_to_plot = data_to_plot.sort_values('year_month')\n",
    "data_to_plot.head(10)"
   ]
  },
  {
   "cell_type": "markdown",
   "metadata": {},
   "source": [
    "### tweet activity over time ###"
   ]
  },
  {
   "cell_type": "code",
   "execution_count": 52,
   "metadata": {},
   "outputs": [
    {
     "data": {
      "text/plain": [
       "<matplotlib.legend.Legend at 0x11eee14d0>"
      ]
     },
     "execution_count": 52,
     "metadata": {},
     "output_type": "execute_result"
    },
    {
     "data": {
      "image/png": "[encoded data removed]",
      "text/plain": [
       "<Figure size 720x504 with 1 Axes>"
      ]
     },
     "metadata": {
      "needs_background": "light"
     },
     "output_type": "display_data"
    }
   ],
   "source": [
    "plot1 = data_to_plot.plot.line(figsize = [10,7], title = 'twitter activity over time')\n",
    "plot1.set_ylabel('activities')\n",
    "plot1.legend(shadow=True)"
   ]
  },
  {
   "cell_type": "markdown",
   "metadata": {},
   "source": [
    "### twitter activity over time by activity type ###"
   ]
  },
  {
   "cell_type": "code",
   "execution_count": 53,
   "metadata": {},
   "outputs": [
    {
     "data": {
      "text/plain": [
       "<matplotlib.legend.Legend at 0x11f575d10>"
      ]
     },
     "execution_count": 53,
     "metadata": {},
     "output_type": "execute_result"
    },
    {
     "data": {
      "image/png": "[encoded data removed]",
      "text/plain": [
       "<Figure size 720x504 with 1 Axes>"
      ]
     },
     "metadata": {
      "needs_background": "light"
     },
     "output_type": "display_data"
    }
   ],
   "source": [
    "data_to_plot2 = data_to_plot.apply(lambda x: x*100/sum(x), axis=1)\n",
    "plot2 = data_to_plot2.plot.bar(stacked = True, figsize = [10,7], title = 'twitter activity over time by tweet type')\n",
    "plot2.set_ylabel('% of total activities')\n",
    "plot2.legend(loc='upper center', bbox_to_anchor=(1.1, 1), shadow=True)"
   ]
  }
 ],
 "metadata": {
  "kernelspec": {
   "display_name": "Python 3",
   "language": "python",
   "name": "python3"
  },
  "language_info": {
   "codemirror_mode": {
    "name": "ipython",
    "version": 3
   },
   "file_extension": ".py",
   "mimetype": "text/x-python",
   "name": "python",
   "nbconvert_exporter": "python",
   "pygments_lexer": "ipython3",
   "version": "3.7.7"
  }
 },
 "nbformat": 4,
 "nbformat_minor": 4
}
