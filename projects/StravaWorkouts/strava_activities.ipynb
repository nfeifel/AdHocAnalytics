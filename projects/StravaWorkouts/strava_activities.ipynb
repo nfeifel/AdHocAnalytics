{
 "cells": [
  {
   "cell_type": "code",
   "execution_count": 1125,
   "metadata": {},
   "outputs": [],
   "source": [
    "import pandas as pd\n",
    "import numpy as np\n",
    "import json5\n",
    "import requests\n",
    "import webbrowser\n",
    "import datetime\n",
    "import matplotlib.pyplot as plt"
   ]
  },
  {
   "cell_type": "markdown",
   "metadata": {},
   "source": [
    "# global variables #"
   ]
  },
  {
   "cell_type": "code",
   "execution_count": 1126,
   "metadata": {},
   "outputs": [
    {
     "name": "stdout",
     "output_type": "stream",
     "text": [
      "today's date is: 2020-05-18 00:00:00\n",
      "today's month is: 2020-05\n"
     ]
    }
   ],
   "source": [
    "# this defines today's date and month, which will be used later on\n",
    "today_date = pd.to_datetime(pd.to_datetime(\"today\").strftime('%Y-%m-%d'))\n",
    "today_month = today_date.to_period('M')\n",
    "print(\"today's date is: \" + str(today_date) + \"\\n\" + \"today's month is: \" + str(today_month))"
   ]
  },
  {
   "cell_type": "markdown",
   "metadata": {},
   "source": [
    "# account attributes #"
   ]
  },
  {
   "cell_type": "code",
   "execution_count": 1127,
   "metadata": {},
   "outputs": [],
   "source": [
    "# get client id and secret from https://www.strava.com/settings/api\n",
    "client_id = [ENTER CLIENT ID]\n",
    "client_secret = [ENTER CLIENT SECRET]\n",
    "\n",
    "# get athelete id from going to https://www.strava.com/dashboard, clicking on \"My Profile\",\n",
    "# and grabbing the number from the url\n",
    "athlete_id = [ENTER ATHLETE ID]"
   ]
  },
  {
   "cell_type": "markdown",
   "metadata": {},
   "source": [
    "# api setup and  management #"
   ]
  },
  {
   "cell_type": "code",
   "execution_count": 1128,
   "metadata": {},
   "outputs": [],
   "source": [
    "# api request components\n",
    "base = 'https://www.strava.com/api/v3/'\n",
    "request_type_profile = 'athletes'\n",
    "request_type_activies = 'athlete/activities'"
   ]
  },
  {
   "cell_type": "markdown",
   "metadata": {},
   "source": [
    "#### run this to open authentication page and get code to exchange access token with higher permissions ####"
   ]
  },
  {
   "cell_type": "code",
   "execution_count": 1129,
   "metadata": {},
   "outputs": [
    {
     "data": {
      "text/plain": [
       "True"
      ]
     },
     "execution_count": 1129,
     "metadata": {},
     "output_type": "execute_result"
    }
   ],
   "source": [
    "# h/t to the author of this post: https://yizeng.me/2017/01/11/get-a-strava-api-access-token-with-write-permission/\n",
    "url_get_code = 'http://www.strava.com/oauth/authorize?client_id=' + str(client_id) + '&response_type=code&redirect_uri=http://localhost/exchange_token&approval_prompt=force&scope=profile:read_all,activity:read_all'\n",
    "webbrowser.open(url_get_code)"
   ]
  },
  {
   "cell_type": "markdown",
   "metadata": {},
   "source": [
    "#### after reading and agreeing to the terms, hit \"Authorize\". in the url, copy the alphanumeric string (i.e, the code) between \"code=\" and \"&scope\" paste the code in the below cell where instructed ####"
   ]
  },
  {
   "cell_type": "code",
   "execution_count": null,
   "metadata": {},
   "outputs": [],
   "source": [
    "%%bash\n",
    "curl -X POST https://www.strava.com/api/v3/oauth/token \\\n",
    "  -d client_id=[ENTER CLIENT ID] \\\n",
    "  -d client_secret=[ENTER CLIENT SECRET] \\\n",
    "  -d code=[ENTER CODE] \\\n",
    "  -d grant_type=authorization_code"
   ]
  },
  {
   "cell_type": "markdown",
   "metadata": {},
   "source": [
    "#### copy the alphanumeric string following \"access_token\": in the above output paste the access token below ####"
   ]
  },
  {
   "cell_type": "code",
   "execution_count": 1131,
   "metadata": {},
   "outputs": [],
   "source": [
    "access_token = [ENTER ACCESS TOKEN]"
   ]
  },
  {
   "cell_type": "markdown",
   "metadata": {},
   "source": [
    "# get profile info#"
   ]
  },
  {
   "cell_type": "code",
   "execution_count": null,
   "metadata": {},
   "outputs": [],
   "source": [
    "# profile url\n",
    "url_profile = base + request_type_profile + '/' +  athlete_id + '/?access_token=' + access_token\n",
    "print(url_profile)"
   ]
  },
  {
   "cell_type": "code",
   "execution_count": null,
   "metadata": {},
   "outputs": [],
   "source": [
    "# run this to get your profile info\n",
    "response_profile = json5.loads(requests.get(url_profile).text)\n",
    "response_profile"
   ]
  },
  {
   "cell_type": "markdown",
   "metadata": {},
   "source": [
    "# activities #"
   ]
  },
  {
   "cell_type": "code",
   "execution_count": null,
   "metadata": {},
   "outputs": [],
   "source": [
    "# activites url\n",
    "result_limit = '&per_page=50'\n",
    "url_activites = base + request_type_activies + '/?access_token=' + access_token + result_limit\n",
    "print(url_activites)"
   ]
  },
  {
   "cell_type": "code",
   "execution_count": 1135,
   "metadata": {},
   "outputs": [
    {
     "name": "stdout",
     "output_type": "stream",
     "text": [
      "resource_state\n",
      "athlete\n",
      "name\n",
      "distance\n",
      "moving_time\n",
      "elapsed_time\n",
      "total_elevation_gain\n",
      "type\n",
      "workout_type\n",
      "id\n",
      "external_id\n",
      "upload_id\n",
      "start_date\n",
      "start_date_local\n",
      "timezone\n",
      "utc_offset\n",
      "start_latlng\n",
      "end_latlng\n",
      "location_city\n",
      "location_state\n"
     ]
    }
   ],
   "source": [
    "# this pulls the activity data\n",
    "# h/t to this article for a helpful framework on constructing the below loop\n",
    "# http://www.hainke.ca/index.php/2018/08/23/using-the-strava-api-to-retrieve-activity-data/\n",
    "\n",
    "# create empty df to store activity data\n",
    "activities = pd.DataFrame()\n",
    "\n",
    "# start page count incrementing variable\n",
    "page = 1\n",
    "\n",
    "while True:\n",
    "    \n",
    "    # get page of activities from Strava\n",
    "    url = url_activites + '&page=' + str(page)\n",
    "    r = pd.read_json(url)\n",
    "\n",
    "    # if no results then exit loop\n",
    "    if len(r) == 0:\n",
    "        break\n",
    "    \n",
    "    # otherwise add new data to dataframe\n",
    "    activities = pd.concat([activities,r], ignore_index=True)\n",
    "\n",
    "    # increment page\n",
    "    page += 1\n",
    "\n",
    "# preview columns in the output (just showing the first 20)\n",
    "for i in activities.columns[0:20]:\n",
    "    print(i)"
   ]
  },
  {
   "cell_type": "code",
   "execution_count": 1136,
   "metadata": {},
   "outputs": [
    {
     "data": {
      "text/html": [
       "<div>\n",
       "<style scoped>\n",
       "    .dataframe tbody tr th:only-of-type {\n",
       "        vertical-align: middle;\n",
       "    }\n",
       "\n",
       "    .dataframe tbody tr th {\n",
       "        vertical-align: top;\n",
       "    }\n",
       "\n",
       "    .dataframe thead th {\n",
       "        text-align: right;\n",
       "    }\n",
       "</style>\n",
       "<table border=\"1\" class=\"dataframe\">\n",
       "  <thead>\n",
       "    <tr style=\"text-align: right;\">\n",
       "      <th></th>\n",
       "      <th>activity_date</th>\n",
       "      <th>distance_miles</th>\n",
       "      <th>time_hours</th>\n",
       "      <th>time_minutes</th>\n",
       "    </tr>\n",
       "  </thead>\n",
       "  <tbody>\n",
       "    <tr>\n",
       "      <th>0</th>\n",
       "      <td>2020-05-17</td>\n",
       "      <td>1.510930</td>\n",
       "      <td>0.228611</td>\n",
       "      <td>13.716667</td>\n",
       "    </tr>\n",
       "    <tr>\n",
       "      <th>1</th>\n",
       "      <td>2020-05-17</td>\n",
       "      <td>5.305405</td>\n",
       "      <td>0.767778</td>\n",
       "      <td>46.066667</td>\n",
       "    </tr>\n",
       "    <tr>\n",
       "      <th>2</th>\n",
       "      <td>2020-05-15</td>\n",
       "      <td>2.325922</td>\n",
       "      <td>0.334722</td>\n",
       "      <td>20.083333</td>\n",
       "    </tr>\n",
       "    <tr>\n",
       "      <th>3</th>\n",
       "      <td>2020-05-13</td>\n",
       "      <td>2.514447</td>\n",
       "      <td>0.353611</td>\n",
       "      <td>21.216667</td>\n",
       "    </tr>\n",
       "    <tr>\n",
       "      <th>4</th>\n",
       "      <td>2020-05-12</td>\n",
       "      <td>2.079735</td>\n",
       "      <td>0.266389</td>\n",
       "      <td>15.983333</td>\n",
       "    </tr>\n",
       "  </tbody>\n",
       "</table>\n",
       "</div>"
      ],
      "text/plain": [
       "  activity_date  distance_miles  time_hours  time_minutes\n",
       "0    2020-05-17        1.510930    0.228611     13.716667\n",
       "1    2020-05-17        5.305405    0.767778     46.066667\n",
       "2    2020-05-15        2.325922    0.334722     20.083333\n",
       "3    2020-05-13        2.514447    0.353611     21.216667\n",
       "4    2020-05-12        2.079735    0.266389     15.983333"
      ]
     },
     "execution_count": 1136,
     "metadata": {},
     "output_type": "execute_result"
    }
   ],
   "source": [
    "# rename distance column to be explcit about measurement unit\n",
    "activities.rename(columns = {'distance':'distance_klm'},inplace = True)\n",
    "\n",
    "# unit conversions\n",
    "activities['distance_klm'] = activities['distance_klm'] / 1000\n",
    "activities['distance_miles'] = activities['distance_klm'] / 1.60934 # klm -> miles conversion rate\n",
    "\n",
    "activities['time_seconds'] = activities['moving_time']\n",
    "activities['time_minutes'] = activities['time_seconds'] / 60\n",
    "activities['time_hours'] = activities['time_minutes'] / 60\n",
    "\n",
    "# datetime parsing\n",
    "activities['activity_date'] = pd.to_datetime(activities['start_date']).dt.strftime('%Y-%m-%d')\n",
    "\n",
    "# select only the desired columns\n",
    "cols = ['activity_date','distance_miles','time_hours','time_minutes']\n",
    "activities = activities[cols]\n",
    "\n",
    "# preview results\n",
    "activities.head()"
   ]
  },
  {
   "cell_type": "markdown",
   "metadata": {},
   "source": [
    "# dataframe construction #"
   ]
  },
  {
   "cell_type": "code",
   "execution_count": 1137,
   "metadata": {},
   "outputs": [
    {
     "data": {
      "text/plain": [
       "DatetimeIndex(['2020-01-01', '2020-01-02', '2020-01-03', '2020-01-04',\n",
       "               '2020-01-05'],\n",
       "              dtype='datetime64[ns]', freq='D')"
      ]
     },
     "execution_count": 1137,
     "metadata": {},
     "output_type": "execute_result"
    }
   ],
   "source": [
    "# create list of every date in the year in YYYY-MM-DD format\n",
    "date_series = pd.date_range(start ='2020-01-01',  end = '2020-12-31', freq ='1D') \n",
    "\n",
    "# preview results\n",
    "date_series[0:5]"
   ]
  },
  {
   "cell_type": "code",
   "execution_count": 1138,
   "metadata": {},
   "outputs": [
    {
     "data": {
      "text/plain": [
       "PeriodIndex(['2020-01', '2020-02', '2020-03', '2020-04', '2020-05', '2020-06',\n",
       "             '2020-07', '2020-08', '2020-09', '2020-10', '2020-11', '2020-12'],\n",
       "            dtype='period[M]', freq='M')"
      ]
     },
     "execution_count": 1138,
     "metadata": {},
     "output_type": "execute_result"
    }
   ],
   "source": [
    "# create list of every date's month in YYYY-MM format\n",
    "month_series = date_series.to_period('M')\n",
    "\n",
    "# preview results\n",
    "month_series.unique()"
   ]
  },
  {
   "cell_type": "code",
   "execution_count": 1139,
   "metadata": {},
   "outputs": [
    {
     "data": {
      "text/plain": [
       "Int64Index([ 1,  2,  3,  4,  5,  6,  7,  8,  9, 10, 11, 12, 13, 14, 15, 16, 17,\n",
       "            18, 19, 20, 21, 22, 23, 24, 25, 26, 27, 28, 29, 30, 31,  1,  2,  3,\n",
       "             4,  5,  6,  7,  8,  9],\n",
       "           dtype='int64')"
      ]
     },
     "execution_count": 1139,
     "metadata": {},
     "output_type": "execute_result"
    }
   ],
   "source": [
    "# create list of integers representing the day of the month (i.e. 2020-02-01 will have a value of 1, etc.)\n",
    "month_day = date_series.day\n",
    "\n",
    "# preview results\n",
    "month_day[0:40]"
   ]
  },
  {
   "cell_type": "code",
   "execution_count": 1140,
   "metadata": {},
   "outputs": [
    {
     "data": {
      "text/plain": [
       "array([ 1,  2,  3,  4,  5,  6,  7,  8,  9, 10, 11, 12, 13, 14, 15, 16, 17,\n",
       "       18, 19, 20, 21, 22, 23, 24, 25, 26, 27, 28, 29, 30, 31, 32, 33, 34,\n",
       "       35, 36, 37, 38, 39, 40])"
      ]
     },
     "execution_count": 1140,
     "metadata": {},
     "output_type": "execute_result"
    }
   ],
   "source": [
    "# create list of integers representing the day of the year (i.e. 2020-02-01 will have a value of 32. etc.)\n",
    "year_day = np.arange(len(date_series))\n",
    "year_day = year_day + 1 # make first day of the year 1, not 0\n",
    "\n",
    "# preview results\n",
    "year_day[0:40]"
   ]
  },
  {
   "cell_type": "code",
   "execution_count": 1143,
   "metadata": {},
   "outputs": [
    {
     "data": {
      "text/html": [
       "<div>\n",
       "<style scoped>\n",
       "    .dataframe tbody tr th:only-of-type {\n",
       "        vertical-align: middle;\n",
       "    }\n",
       "\n",
       "    .dataframe tbody tr th {\n",
       "        vertical-align: top;\n",
       "    }\n",
       "\n",
       "    .dataframe thead th {\n",
       "        text-align: right;\n",
       "    }\n",
       "</style>\n",
       "<table border=\"1\" class=\"dataframe\">\n",
       "  <thead>\n",
       "    <tr style=\"text-align: right;\">\n",
       "      <th></th>\n",
       "      <th>date</th>\n",
       "      <th>month</th>\n",
       "      <th>year_day</th>\n",
       "      <th>month_day</th>\n",
       "    </tr>\n",
       "  </thead>\n",
       "  <tbody>\n",
       "    <tr>\n",
       "      <th>0</th>\n",
       "      <td>2020-01-01</td>\n",
       "      <td>2020-01</td>\n",
       "      <td>1</td>\n",
       "      <td>1</td>\n",
       "    </tr>\n",
       "    <tr>\n",
       "      <th>1</th>\n",
       "      <td>2020-01-02</td>\n",
       "      <td>2020-01</td>\n",
       "      <td>2</td>\n",
       "      <td>2</td>\n",
       "    </tr>\n",
       "    <tr>\n",
       "      <th>2</th>\n",
       "      <td>2020-01-03</td>\n",
       "      <td>2020-01</td>\n",
       "      <td>3</td>\n",
       "      <td>3</td>\n",
       "    </tr>\n",
       "    <tr>\n",
       "      <th>3</th>\n",
       "      <td>2020-01-04</td>\n",
       "      <td>2020-01</td>\n",
       "      <td>4</td>\n",
       "      <td>4</td>\n",
       "    </tr>\n",
       "    <tr>\n",
       "      <th>4</th>\n",
       "      <td>2020-01-05</td>\n",
       "      <td>2020-01</td>\n",
       "      <td>5</td>\n",
       "      <td>5</td>\n",
       "    </tr>\n",
       "  </tbody>\n",
       "</table>\n",
       "</div>"
      ],
      "text/plain": [
       "        date    month  year_day  month_day\n",
       "0 2020-01-01  2020-01         1          1\n",
       "1 2020-01-02  2020-01         2          2\n",
       "2 2020-01-03  2020-01         3          3\n",
       "3 2020-01-04  2020-01         4          4\n",
       "4 2020-01-05  2020-01         5          5"
      ]
     },
     "execution_count": 1143,
     "metadata": {},
     "output_type": "execute_result"
    }
   ],
   "source": [
    "# create dataframe with the lists created above\n",
    "df = pd.DataFrame(list(zip(date_series,month_series,year_day,month_day)), columns =['date','month','year_day','month_day'])\n",
    "\n",
    "# preview results\n",
    "df.head()"
   ]
  },
  {
   "cell_type": "markdown",
   "metadata": {},
   "source": [
    "## daily performance ##\n",
    "#### some days have multiple activities, so here we aggregate activities by day ####"
   ]
  },
  {
   "cell_type": "code",
   "execution_count": 1144,
   "metadata": {},
   "outputs": [
    {
     "data": {
      "text/html": [
       "<div>\n",
       "<style scoped>\n",
       "    .dataframe tbody tr th:only-of-type {\n",
       "        vertical-align: middle;\n",
       "    }\n",
       "\n",
       "    .dataframe tbody tr th {\n",
       "        vertical-align: top;\n",
       "    }\n",
       "\n",
       "    .dataframe thead th {\n",
       "        text-align: right;\n",
       "    }\n",
       "</style>\n",
       "<table border=\"1\" class=\"dataframe\">\n",
       "  <thead>\n",
       "    <tr style=\"text-align: right;\">\n",
       "      <th></th>\n",
       "      <th>date</th>\n",
       "      <th>distance_miles</th>\n",
       "      <th>time_hours</th>\n",
       "      <th>time_minutes</th>\n",
       "      <th>runs</th>\n",
       "    </tr>\n",
       "  </thead>\n",
       "  <tbody>\n",
       "    <tr>\n",
       "      <th>0</th>\n",
       "      <td>2020-01-03</td>\n",
       "      <td>2.000075</td>\n",
       "      <td>0.283333</td>\n",
       "      <td>17.0</td>\n",
       "      <td>2</td>\n",
       "    </tr>\n",
       "    <tr>\n",
       "      <th>1</th>\n",
       "      <td>2020-01-08</td>\n",
       "      <td>1.000037</td>\n",
       "      <td>0.133333</td>\n",
       "      <td>8.0</td>\n",
       "      <td>1</td>\n",
       "    </tr>\n",
       "    <tr>\n",
       "      <th>2</th>\n",
       "      <td>2020-01-14</td>\n",
       "      <td>1.000037</td>\n",
       "      <td>0.133333</td>\n",
       "      <td>8.0</td>\n",
       "      <td>1</td>\n",
       "    </tr>\n",
       "    <tr>\n",
       "      <th>3</th>\n",
       "      <td>2020-01-18</td>\n",
       "      <td>1.000037</td>\n",
       "      <td>0.150000</td>\n",
       "      <td>9.0</td>\n",
       "      <td>1</td>\n",
       "    </tr>\n",
       "    <tr>\n",
       "      <th>4</th>\n",
       "      <td>2020-01-20</td>\n",
       "      <td>1.000037</td>\n",
       "      <td>0.133333</td>\n",
       "      <td>8.0</td>\n",
       "      <td>1</td>\n",
       "    </tr>\n",
       "  </tbody>\n",
       "</table>\n",
       "</div>"
      ],
      "text/plain": [
       "        date  distance_miles  time_hours  time_minutes  runs\n",
       "0 2020-01-03        2.000075    0.283333          17.0     2\n",
       "1 2020-01-08        1.000037    0.133333           8.0     1\n",
       "2 2020-01-14        1.000037    0.133333           8.0     1\n",
       "3 2020-01-18        1.000037    0.150000           9.0     1\n",
       "4 2020-01-20        1.000037    0.133333           8.0     1"
      ]
     },
     "execution_count": 1144,
     "metadata": {},
     "output_type": "execute_result"
    }
   ],
   "source": [
    "# aggregate activities by day\n",
    "df_daily = activities.groupby('activity_date').sum().reset_index()\n",
    "\n",
    "# calculate total runs per day\n",
    "df_daily['runs'] = activities.groupby('activity_date').count().reset_index()['distance_miles']\n",
    "\n",
    "# rename activity_date to date\n",
    "df_daily.rename(columns = {'activity_date':'date'}, inplace = True)\n",
    "\n",
    "# datetime parsing\n",
    "df_daily['date'] = pd.to_datetime(df_daily['date'])\n",
    "\n",
    "# preview results\n",
    "df_daily.head()"
   ]
  },
  {
   "cell_type": "code",
   "execution_count": 1145,
   "metadata": {},
   "outputs": [
    {
     "data": {
      "text/html": [
       "<div>\n",
       "<style scoped>\n",
       "    .dataframe tbody tr th:only-of-type {\n",
       "        vertical-align: middle;\n",
       "    }\n",
       "\n",
       "    .dataframe tbody tr th {\n",
       "        vertical-align: top;\n",
       "    }\n",
       "\n",
       "    .dataframe thead th {\n",
       "        text-align: right;\n",
       "    }\n",
       "</style>\n",
       "<table border=\"1\" class=\"dataframe\">\n",
       "  <thead>\n",
       "    <tr style=\"text-align: right;\">\n",
       "      <th></th>\n",
       "      <th>date</th>\n",
       "      <th>month</th>\n",
       "      <th>year_day</th>\n",
       "      <th>month_day</th>\n",
       "      <th>distance_miles</th>\n",
       "      <th>time_hours</th>\n",
       "      <th>time_minutes</th>\n",
       "      <th>runs</th>\n",
       "    </tr>\n",
       "  </thead>\n",
       "  <tbody>\n",
       "    <tr>\n",
       "      <th>0</th>\n",
       "      <td>2020-01-01</td>\n",
       "      <td>2020-01</td>\n",
       "      <td>1</td>\n",
       "      <td>1</td>\n",
       "      <td>NaN</td>\n",
       "      <td>NaN</td>\n",
       "      <td>NaN</td>\n",
       "      <td>NaN</td>\n",
       "    </tr>\n",
       "    <tr>\n",
       "      <th>1</th>\n",
       "      <td>2020-01-02</td>\n",
       "      <td>2020-01</td>\n",
       "      <td>2</td>\n",
       "      <td>2</td>\n",
       "      <td>NaN</td>\n",
       "      <td>NaN</td>\n",
       "      <td>NaN</td>\n",
       "      <td>NaN</td>\n",
       "    </tr>\n",
       "    <tr>\n",
       "      <th>2</th>\n",
       "      <td>2020-01-03</td>\n",
       "      <td>2020-01</td>\n",
       "      <td>3</td>\n",
       "      <td>3</td>\n",
       "      <td>2.000075</td>\n",
       "      <td>0.283333</td>\n",
       "      <td>17.0</td>\n",
       "      <td>2.0</td>\n",
       "    </tr>\n",
       "    <tr>\n",
       "      <th>3</th>\n",
       "      <td>2020-01-04</td>\n",
       "      <td>2020-01</td>\n",
       "      <td>4</td>\n",
       "      <td>4</td>\n",
       "      <td>NaN</td>\n",
       "      <td>NaN</td>\n",
       "      <td>NaN</td>\n",
       "      <td>NaN</td>\n",
       "    </tr>\n",
       "    <tr>\n",
       "      <th>4</th>\n",
       "      <td>2020-01-05</td>\n",
       "      <td>2020-01</td>\n",
       "      <td>5</td>\n",
       "      <td>5</td>\n",
       "      <td>NaN</td>\n",
       "      <td>NaN</td>\n",
       "      <td>NaN</td>\n",
       "      <td>NaN</td>\n",
       "    </tr>\n",
       "  </tbody>\n",
       "</table>\n",
       "</div>"
      ],
      "text/plain": [
       "        date    month  year_day  month_day  distance_miles  time_hours  \\\n",
       "0 2020-01-01  2020-01         1          1             NaN         NaN   \n",
       "1 2020-01-02  2020-01         2          2             NaN         NaN   \n",
       "2 2020-01-03  2020-01         3          3        2.000075    0.283333   \n",
       "3 2020-01-04  2020-01         4          4             NaN         NaN   \n",
       "4 2020-01-05  2020-01         5          5             NaN         NaN   \n",
       "\n",
       "   time_minutes  runs  \n",
       "0           NaN   NaN  \n",
       "1           NaN   NaN  \n",
       "2          17.0   2.0  \n",
       "3           NaN   NaN  \n",
       "4           NaN   NaN  "
      ]
     },
     "execution_count": 1145,
     "metadata": {},
     "output_type": "execute_result"
    }
   ],
   "source": [
    "# combine the original dataframe with date information (df) with the daily perfomance dataframe (df_daily)\n",
    "df = df.merge(df_daily, how = 'left', left_on = 'date', right_on = 'date')\n",
    "\n",
    "# preview results (NaN indicates that there were no activitie sthat day)\n",
    "df.head()"
   ]
  },
  {
   "cell_type": "code",
   "execution_count": 1146,
   "metadata": {},
   "outputs": [
    {
     "data": {
      "text/html": [
       "<div>\n",
       "<style scoped>\n",
       "    .dataframe tbody tr th:only-of-type {\n",
       "        vertical-align: middle;\n",
       "    }\n",
       "\n",
       "    .dataframe tbody tr th {\n",
       "        vertical-align: top;\n",
       "    }\n",
       "\n",
       "    .dataframe thead th {\n",
       "        text-align: right;\n",
       "    }\n",
       "</style>\n",
       "<table border=\"1\" class=\"dataframe\">\n",
       "  <thead>\n",
       "    <tr style=\"text-align: right;\">\n",
       "      <th></th>\n",
       "      <th>count</th>\n",
       "      <th>mean</th>\n",
       "      <th>std</th>\n",
       "      <th>min</th>\n",
       "      <th>25%</th>\n",
       "      <th>50%</th>\n",
       "      <th>75%</th>\n",
       "      <th>max</th>\n",
       "    </tr>\n",
       "  </thead>\n",
       "  <tbody>\n",
       "    <tr>\n",
       "      <th>year_day</th>\n",
       "      <td>366.0</td>\n",
       "      <td>183.500000</td>\n",
       "      <td>105.799338</td>\n",
       "      <td>1.000000</td>\n",
       "      <td>92.250000</td>\n",
       "      <td>183.500000</td>\n",
       "      <td>274.750000</td>\n",
       "      <td>366.000000</td>\n",
       "    </tr>\n",
       "    <tr>\n",
       "      <th>month_day</th>\n",
       "      <td>366.0</td>\n",
       "      <td>15.756831</td>\n",
       "      <td>8.823592</td>\n",
       "      <td>1.000000</td>\n",
       "      <td>8.000000</td>\n",
       "      <td>16.000000</td>\n",
       "      <td>23.000000</td>\n",
       "      <td>31.000000</td>\n",
       "    </tr>\n",
       "    <tr>\n",
       "      <th>distance_miles</th>\n",
       "      <td>46.0</td>\n",
       "      <td>3.260424</td>\n",
       "      <td>3.080804</td>\n",
       "      <td>0.500019</td>\n",
       "      <td>1.099193</td>\n",
       "      <td>2.083649</td>\n",
       "      <td>4.024631</td>\n",
       "      <td>13.102452</td>\n",
       "    </tr>\n",
       "    <tr>\n",
       "      <th>time_hours</th>\n",
       "      <td>46.0</td>\n",
       "      <td>0.469010</td>\n",
       "      <td>0.464852</td>\n",
       "      <td>0.066667</td>\n",
       "      <td>0.155556</td>\n",
       "      <td>0.288889</td>\n",
       "      <td>0.563403</td>\n",
       "      <td>1.925833</td>\n",
       "    </tr>\n",
       "    <tr>\n",
       "      <th>time_minutes</th>\n",
       "      <td>46.0</td>\n",
       "      <td>28.140580</td>\n",
       "      <td>27.891144</td>\n",
       "      <td>4.000000</td>\n",
       "      <td>9.333333</td>\n",
       "      <td>17.333333</td>\n",
       "      <td>33.804167</td>\n",
       "      <td>115.550000</td>\n",
       "    </tr>\n",
       "    <tr>\n",
       "      <th>runs</th>\n",
       "      <td>46.0</td>\n",
       "      <td>1.173913</td>\n",
       "      <td>0.383223</td>\n",
       "      <td>1.000000</td>\n",
       "      <td>1.000000</td>\n",
       "      <td>1.000000</td>\n",
       "      <td>1.000000</td>\n",
       "      <td>2.000000</td>\n",
       "    </tr>\n",
       "    <tr>\n",
       "      <th>cum_runs_year</th>\n",
       "      <td>366.0</td>\n",
       "      <td>42.636612</td>\n",
       "      <td>17.623511</td>\n",
       "      <td>0.000000</td>\n",
       "      <td>34.000000</td>\n",
       "      <td>54.000000</td>\n",
       "      <td>54.000000</td>\n",
       "      <td>54.000000</td>\n",
       "    </tr>\n",
       "    <tr>\n",
       "      <th>cum_distance_miles_year</th>\n",
       "      <td>366.0</td>\n",
       "      <td>117.114292</td>\n",
       "      <td>50.493741</td>\n",
       "      <td>0.000000</td>\n",
       "      <td>83.021114</td>\n",
       "      <td>149.979495</td>\n",
       "      <td>149.979495</td>\n",
       "      <td>149.979495</td>\n",
       "    </tr>\n",
       "    <tr>\n",
       "      <th>cum_distance_miles_month</th>\n",
       "      <td>366.0</td>\n",
       "      <td>7.348620</td>\n",
       "      <td>11.412051</td>\n",
       "      <td>0.000000</td>\n",
       "      <td>0.000000</td>\n",
       "      <td>0.000000</td>\n",
       "      <td>13.102452</td>\n",
       "      <td>42.370226</td>\n",
       "    </tr>\n",
       "    <tr>\n",
       "      <th>cum_hours_month</th>\n",
       "      <td>366.0</td>\n",
       "      <td>1.059548</td>\n",
       "      <td>1.656620</td>\n",
       "      <td>0.000000</td>\n",
       "      <td>0.000000</td>\n",
       "      <td>0.000000</td>\n",
       "      <td>1.925556</td>\n",
       "      <td>6.118056</td>\n",
       "    </tr>\n",
       "    <tr>\n",
       "      <th>cum_hours_year</th>\n",
       "      <td>46.0</td>\n",
       "      <td>10.894487</td>\n",
       "      <td>6.541668</td>\n",
       "      <td>0.283333</td>\n",
       "      <td>6.421319</td>\n",
       "      <td>10.180417</td>\n",
       "      <td>16.835347</td>\n",
       "      <td>21.574444</td>\n",
       "    </tr>\n",
       "  </tbody>\n",
       "</table>\n",
       "</div>"
      ],
      "text/plain": [
       "                          count        mean         std       min        25%  \\\n",
       "year_day                  366.0  183.500000  105.799338  1.000000  92.250000   \n",
       "month_day                 366.0   15.756831    8.823592  1.000000   8.000000   \n",
       "distance_miles             46.0    3.260424    3.080804  0.500019   1.099193   \n",
       "time_hours                 46.0    0.469010    0.464852  0.066667   0.155556   \n",
       "time_minutes               46.0   28.140580   27.891144  4.000000   9.333333   \n",
       "runs                       46.0    1.173913    0.383223  1.000000   1.000000   \n",
       "cum_runs_year             366.0   42.636612   17.623511  0.000000  34.000000   \n",
       "cum_distance_miles_year   366.0  117.114292   50.493741  0.000000  83.021114   \n",
       "cum_distance_miles_month  366.0    7.348620   11.412051  0.000000   0.000000   \n",
       "cum_hours_month           366.0    1.059548    1.656620  0.000000   0.000000   \n",
       "cum_hours_year             46.0   10.894487    6.541668  0.283333   6.421319   \n",
       "\n",
       "                                 50%         75%         max  \n",
       "year_day                  183.500000  274.750000  366.000000  \n",
       "month_day                  16.000000   23.000000   31.000000  \n",
       "distance_miles              2.083649    4.024631   13.102452  \n",
       "time_hours                  0.288889    0.563403    1.925833  \n",
       "time_minutes               17.333333   33.804167  115.550000  \n",
       "runs                        1.000000    1.000000    2.000000  \n",
       "cum_runs_year              54.000000   54.000000   54.000000  \n",
       "cum_distance_miles_year   149.979495  149.979495  149.979495  \n",
       "cum_distance_miles_month    0.000000   13.102452   42.370226  \n",
       "cum_hours_month             0.000000    1.925556    6.118056  \n",
       "cum_hours_year             10.180417   16.835347   21.574444  "
      ]
     },
     "execution_count": 1146,
     "metadata": {},
     "output_type": "execute_result"
    }
   ],
   "source": [
    "### add cumulative fields to the dataframe\n",
    "\n",
    "# distance\n",
    "df['cum_runs_year'] = df.fillna(0)['runs'].cumsum()\n",
    "df['cum_distance_miles_year'] = df.fillna(0)['distance_miles'].cumsum()\n",
    "df['cum_distance_miles_month'] = df.fillna(0).groupby(['month'])['distance_miles'].cumsum()\n",
    "\n",
    "# time\n",
    "df['cum_hours_month'] = df.fillna(0).groupby(['month'])['time_hours'].cumsum()\n",
    "df['cum_hours_year'] = df['time_hours'].cumsum()\n",
    "\n",
    "# inspect summary statistics of the dataframe (this is a way to notice any outliers)\n",
    "df.describe().transpose() # easier to view transposed"
   ]
  },
  {
   "cell_type": "markdown",
   "metadata": {},
   "source": [
    "# Tracking my 2020 progress #"
   ]
  },
  {
   "cell_type": "markdown",
   "metadata": {},
   "source": [
    "### cumulative distance run by day vs daily requirement to meet goal of 366 miles at end of year ###"
   ]
  },
  {
   "cell_type": "code",
   "execution_count": 1148,
   "metadata": {},
   "outputs": [
    {
     "data": {
      "image/png": "[encoded data removed]",
      "text/plain": [
       "<Figure size 1440x720 with 2 Axes>"
      ]
     },
     "metadata": {
      "needs_background": "light"
     },
     "output_type": "display_data"
    }
   ],
   "source": [
    "# chart formatting\n",
    "fig, axes = plt.subplots(nrows=1, ncols=2, figsize=(20, 10))\n",
    "\n",
    "# filter for just dates that have happened\n",
    "df_plot_1a = df[df['date'] <= today_date]\n",
    "\n",
    "df_plot_1b = df\n",
    "df_plot_1b.loc[df_plot_1b.date > today_date, 'cum_distance_miles_year'] = np.nan\n",
    "\n",
    "# grab just the series we need\n",
    "x1 = df_plot_1a[['year_day']]\n",
    "y1 = df_plot_1a[['cum_distance_miles_year']]\n",
    "\n",
    "x2 = df_plot_1b[['year_day']]\n",
    "y2 = df_plot_1b[['cum_distance_miles_year']]\n",
    "\n",
    "# plots\n",
    "axes[0].plot(x1, y1, x1)\n",
    "axes[1].plot(x2, y2, x2)\n",
    "\n",
    "# chart title\n",
    "axes[0].set_title('Cumulative distance run in 2020 vs. daily requirement', size = 20)\n",
    "axes[1].set_title('Zoomed out', size = 25)\n",
    "\n",
    "# axis titles\n",
    "for ax in axes.flat:\n",
    "    ax.set(xlabel='Days into year', ylabel='Distance (miles)')\n",
    "\n",
    "fig.tight_layout()"
   ]
  },
  {
   "cell_type": "markdown",
   "metadata": {},
   "source": [
    "### month over month cumulative distance run by day ###"
   ]
  },
  {
   "cell_type": "code",
   "execution_count": 1150,
   "metadata": {},
   "outputs": [
    {
     "data": {
      "text/html": [
       "<div>\n",
       "<style scoped>\n",
       "    .dataframe tbody tr th:only-of-type {\n",
       "        vertical-align: middle;\n",
       "    }\n",
       "\n",
       "    .dataframe tbody tr th {\n",
       "        vertical-align: top;\n",
       "    }\n",
       "\n",
       "    .dataframe thead th {\n",
       "        text-align: right;\n",
       "    }\n",
       "</style>\n",
       "<table border=\"1\" class=\"dataframe\">\n",
       "  <thead>\n",
       "    <tr style=\"text-align: right;\">\n",
       "      <th>month</th>\n",
       "      <th>2020-01</th>\n",
       "      <th>2020-02</th>\n",
       "      <th>2020-03</th>\n",
       "      <th>2020-04</th>\n",
       "      <th>2020-05</th>\n",
       "    </tr>\n",
       "    <tr>\n",
       "      <th>month_day</th>\n",
       "      <th></th>\n",
       "      <th></th>\n",
       "      <th></th>\n",
       "      <th></th>\n",
       "      <th></th>\n",
       "    </tr>\n",
       "  </thead>\n",
       "  <tbody>\n",
       "    <tr>\n",
       "      <th>1</th>\n",
       "      <td>0.000000</td>\n",
       "      <td>0.000000</td>\n",
       "      <td>0.992208</td>\n",
       "      <td>2.048355</td>\n",
       "      <td>2.271179</td>\n",
       "    </tr>\n",
       "    <tr>\n",
       "      <th>2</th>\n",
       "      <td>0.000000</td>\n",
       "      <td>13.102452</td>\n",
       "      <td>0.992208</td>\n",
       "      <td>2.048355</td>\n",
       "      <td>2.271179</td>\n",
       "    </tr>\n",
       "    <tr>\n",
       "      <th>3</th>\n",
       "      <td>2.000075</td>\n",
       "      <td>13.102452</td>\n",
       "      <td>0.992208</td>\n",
       "      <td>6.079014</td>\n",
       "      <td>6.512794</td>\n",
       "    </tr>\n",
       "    <tr>\n",
       "      <th>4</th>\n",
       "      <td>2.000075</td>\n",
       "      <td>13.102452</td>\n",
       "      <td>2.271242</td>\n",
       "      <td>6.079014</td>\n",
       "      <td>6.512794</td>\n",
       "    </tr>\n",
       "    <tr>\n",
       "      <th>5</th>\n",
       "      <td>2.000075</td>\n",
       "      <td>13.102452</td>\n",
       "      <td>2.271242</td>\n",
       "      <td>16.441088</td>\n",
       "      <td>6.512794</td>\n",
       "    </tr>\n",
       "  </tbody>\n",
       "</table>\n",
       "</div>"
      ],
      "text/plain": [
       "month       2020-01    2020-02   2020-03    2020-04   2020-05\n",
       "month_day                                                    \n",
       "1          0.000000   0.000000  0.992208   2.048355  2.271179\n",
       "2          0.000000  13.102452  0.992208   2.048355  2.271179\n",
       "3          2.000075  13.102452  0.992208   6.079014  6.512794\n",
       "4          2.000075  13.102452  2.271242   6.079014  6.512794\n",
       "5          2.000075  13.102452  2.271242  16.441088  6.512794"
      ]
     },
     "execution_count": 1150,
     "metadata": {},
     "output_type": "execute_result"
    }
   ],
   "source": [
    "# filter for just dates that have happened\n",
    "df_plot_2 = df[df['date'] <= today_date]\n",
    "\n",
    "# grab just the columns we need\n",
    "df_plot_2 = df_plot_2[['month','month_day','cum_distance_miles_month']]\n",
    "\n",
    "# manipulate dataset to fit plot format\n",
    "df_plot_2 = df_plot_2.pivot(index = 'month_day', columns = 'month', values = 'cum_distance_miles_month')\n",
    "\n",
    "# preview results\n",
    "df_plot_2.head()"
   ]
  },
  {
   "cell_type": "code",
   "execution_count": 1151,
   "metadata": {},
   "outputs": [
    {
     "data": {
      "text/plain": [
       "<matplotlib.legend.Legend at 0x11d02d490>"
      ]
     },
     "execution_count": 1151,
     "metadata": {},
     "output_type": "execute_result"
    },
    {
     "data": {
      "image/png": "[encoded data removed]",
      "text/plain": [
       "<Figure size 1080x720 with 1 Axes>"
      ]
     },
     "metadata": {
      "needs_background": "light"
     },
     "output_type": "display_data"
    }
   ],
   "source": [
    "# plot the whole dataset created above\n",
    "df_plot_2.plot()\n",
    "\n",
    "# chart formatting\n",
    "plt.rcParams[\"figure.figsize\"] = (15,10)\n",
    "\n",
    "# add monthly goal line to chart\n",
    "plt.axhline(y=30.5, color='black', linestyle='--') # 366 miles / 12 months = 30.5 miles per month\n",
    "# add text above line\n",
    "plt.text(9, 32, 'this is the monthly goal',\n",
    "         rotation=0,\n",
    "         horizontalalignment='center',\n",
    "         verticalalignment='top',\n",
    "         multialignment='center',\n",
    "         size=14)\n",
    "\n",
    "# x axis\n",
    "plt.xlabel('Days into month')\n",
    "# y axis\n",
    "plt.ylabel('Distance (miles)')\n",
    "# chart title\n",
    "plt.title('Cumulative distance run in each month')\n",
    "# set text size\n",
    "plt.rc('font', size=15)\n",
    "# move legend to right of the chart\n",
    "plt.legend(loc='center left', bbox_to_anchor=(1, 0.5))"
   ]
  },
  {
   "cell_type": "markdown",
   "metadata": {},
   "source": [
    "# monthly metrics summary #"
   ]
  },
  {
   "cell_type": "code",
   "execution_count": 1152,
   "metadata": {},
   "outputs": [
    {
     "data": {
      "text/html": [
       "<div>\n",
       "<style scoped>\n",
       "    .dataframe tbody tr th:only-of-type {\n",
       "        vertical-align: middle;\n",
       "    }\n",
       "\n",
       "    .dataframe tbody tr th {\n",
       "        vertical-align: top;\n",
       "    }\n",
       "\n",
       "    .dataframe thead th {\n",
       "        text-align: right;\n",
       "    }\n",
       "</style>\n",
       "<table border=\"1\" class=\"dataframe\">\n",
       "  <thead>\n",
       "    <tr style=\"text-align: right;\">\n",
       "      <th></th>\n",
       "      <th>month</th>\n",
       "    </tr>\n",
       "  </thead>\n",
       "  <tbody>\n",
       "    <tr>\n",
       "      <th>0</th>\n",
       "      <td>2020-01</td>\n",
       "    </tr>\n",
       "    <tr>\n",
       "      <th>1</th>\n",
       "      <td>2020-02</td>\n",
       "    </tr>\n",
       "    <tr>\n",
       "      <th>2</th>\n",
       "      <td>2020-03</td>\n",
       "    </tr>\n",
       "    <tr>\n",
       "      <th>3</th>\n",
       "      <td>2020-04</td>\n",
       "    </tr>\n",
       "    <tr>\n",
       "      <th>4</th>\n",
       "      <td>2020-05</td>\n",
       "    </tr>\n",
       "  </tbody>\n",
       "</table>\n",
       "</div>"
      ],
      "text/plain": [
       "     month\n",
       "0  2020-01\n",
       "1  2020-02\n",
       "2  2020-03\n",
       "3  2020-04\n",
       "4  2020-05"
      ]
     },
     "execution_count": 1152,
     "metadata": {},
     "output_type": "execute_result"
    }
   ],
   "source": [
    "# create dataframe, for now with just a column for month\n",
    "df_monthly = df[['month']].drop_duplicates().reset_index().drop(columns = 'index')\n",
    "\n",
    "# filter for just months that have started\n",
    "df_monthly = df_monthly.loc[df_monthly.month <= today_month,:]\n",
    "\n",
    "# preview results\n",
    "df_monthly.head()"
   ]
  },
  {
   "cell_type": "code",
   "execution_count": 1153,
   "metadata": {},
   "outputs": [],
   "source": [
    "# this will add more features to the dataframe\n",
    "\n",
    "for i in range(len(df_monthly['month'])):\n",
    "\n",
    "    # decalre month #\n",
    "    month = df_monthly.iloc[i]['month']\n",
    "    \n",
    "    ### monthly stats ###\n",
    "    \n",
    "    df_monthly.loc[i,'total_runs'] = df[df['month'] == month][['runs']].sum().values\n",
    "    \n",
    "    df_monthly.loc[i,'total_distance'] = df[df['month'] == month][['distance_miles']].sum().values\n",
    "    df_monthly.loc[i,'longest_run_distance'] = df[df['month'] == month][['distance_miles']].max().values\n",
    "    \n",
    "    df_monthly.loc[i,'total_hours'] = df[df['month'] == month][['time_hours']].sum().values\n",
    "    df_monthly.loc[i,'total_minutes'] = df[df['month'] == month][['time_minutes']].sum().values\n",
    "    df_monthly.loc[i,'longest_run_hours'] = df[df['month'] == month][['time_hours']].max().values\n",
    "    \n",
    "    df_monthly.loc[i,'cum_runs_month_end'] = df[df['month'] == month][['cum_runs_year']].max().values\n",
    "    df_monthly.loc[i,'cum_distance_month_end'] = df[df['month'] == month][['cum_distance_miles_year']].max().values\n",
    "    df_monthly.loc[i,'cum_hours_month_end'] = df[df['month'] == month][['cum_hours_year']].max().values\n",
    "    \n",
    "    ### per day stats ###\n",
    "\n",
    "    df_monthly.loc[i,'avg_distance_per_day'] = df[df['month'] == month][['distance_miles']].fillna(0).mean().values\n",
    "    df_monthly.loc[i,'avg_minutes_per_day'] = df[df['month'] == month][['time_minutes']].fillna(0).mean().values\n",
    "    \n",
    "    ### per run stats ###\n",
    "    \n",
    "    df_monthly.loc[i,'avg_distance_per_run'] = df[df['month'] == month][['distance_miles']].mean().values\n",
    "    df_monthly.loc[i,'avg_minutes_per_run'] = df[df['month'] == month][['time_minutes']].mean().values   "
   ]
  },
  {
   "cell_type": "code",
   "execution_count": 1154,
   "metadata": {},
   "outputs": [],
   "source": [
    "# create pace variable\n",
    "df_monthly['pace'] = df_monthly['total_minutes'] / df_monthly['total_distance']"
   ]
  },
  {
   "cell_type": "code",
   "execution_count": 1155,
   "metadata": {},
   "outputs": [
    {
     "data": {
      "text/html": [
       "<div>\n",
       "<style scoped>\n",
       "    .dataframe tbody tr th:only-of-type {\n",
       "        vertical-align: middle;\n",
       "    }\n",
       "\n",
       "    .dataframe tbody tr th {\n",
       "        vertical-align: top;\n",
       "    }\n",
       "\n",
       "    .dataframe thead th {\n",
       "        text-align: right;\n",
       "    }\n",
       "</style>\n",
       "<table border=\"1\" class=\"dataframe\">\n",
       "  <thead>\n",
       "    <tr style=\"text-align: right;\">\n",
       "      <th></th>\n",
       "      <th>0</th>\n",
       "      <th>1</th>\n",
       "      <th>2</th>\n",
       "      <th>3</th>\n",
       "      <th>4</th>\n",
       "    </tr>\n",
       "  </thead>\n",
       "  <tbody>\n",
       "    <tr>\n",
       "      <th>month</th>\n",
       "      <td>2020-01</td>\n",
       "      <td>2020-02</td>\n",
       "      <td>2020-03</td>\n",
       "      <td>2020-04</td>\n",
       "      <td>2020-05</td>\n",
       "    </tr>\n",
       "    <tr>\n",
       "      <th>total_runs</th>\n",
       "      <td>8</td>\n",
       "      <td>9</td>\n",
       "      <td>16</td>\n",
       "      <td>11</td>\n",
       "      <td>10</td>\n",
       "    </tr>\n",
       "    <tr>\n",
       "      <th>cum_runs_month_end</th>\n",
       "      <td>8</td>\n",
       "      <td>17</td>\n",
       "      <td>33</td>\n",
       "      <td>44</td>\n",
       "      <td>54</td>\n",
       "    </tr>\n",
       "    <tr>\n",
       "      <th>total_distance</th>\n",
       "      <td>13.9452</td>\n",
       "      <td>31.9064</td>\n",
       "      <td>35.1212</td>\n",
       "      <td>42.3702</td>\n",
       "      <td>26.6365</td>\n",
       "    </tr>\n",
       "    <tr>\n",
       "      <th>cum_distance_month_end</th>\n",
       "      <td>13.9452</td>\n",
       "      <td>45.8516</td>\n",
       "      <td>80.9728</td>\n",
       "      <td>123.343</td>\n",
       "      <td>149.979</td>\n",
       "    </tr>\n",
       "    <tr>\n",
       "      <th>longest_run_distance</th>\n",
       "      <td>7.44492</td>\n",
       "      <td>13.1025</td>\n",
       "      <td>8.00005</td>\n",
       "      <td>10.3621</td>\n",
       "      <td>6.81633</td>\n",
       "    </tr>\n",
       "    <tr>\n",
       "      <th>avg_distance_per_run</th>\n",
       "      <td>1.99217</td>\n",
       "      <td>4.55806</td>\n",
       "      <td>2.92676</td>\n",
       "      <td>3.85184</td>\n",
       "      <td>2.95961</td>\n",
       "    </tr>\n",
       "    <tr>\n",
       "      <th>avg_distance_per_day</th>\n",
       "      <td>0.449844</td>\n",
       "      <td>1.10022</td>\n",
       "      <td>1.13294</td>\n",
       "      <td>1.41234</td>\n",
       "      <td>0.859242</td>\n",
       "    </tr>\n",
       "    <tr>\n",
       "      <th>total_hours</th>\n",
       "      <td>1.92556</td>\n",
       "      <td>4.7775</td>\n",
       "      <td>5.05583</td>\n",
       "      <td>6.11806</td>\n",
       "      <td>3.6975</td>\n",
       "    </tr>\n",
       "    <tr>\n",
       "      <th>cum_hours_month_end</th>\n",
       "      <td>1.92556</td>\n",
       "      <td>6.70306</td>\n",
       "      <td>11.7589</td>\n",
       "      <td>17.8769</td>\n",
       "      <td>21.5744</td>\n",
       "    </tr>\n",
       "    <tr>\n",
       "      <th>longest_run_hours</th>\n",
       "      <td>1.02556</td>\n",
       "      <td>1.92583</td>\n",
       "      <td>1.17278</td>\n",
       "      <td>1.53722</td>\n",
       "      <td>0.996389</td>\n",
       "    </tr>\n",
       "    <tr>\n",
       "      <th>avg_minutes_per_run</th>\n",
       "      <td>16.5048</td>\n",
       "      <td>40.95</td>\n",
       "      <td>25.2792</td>\n",
       "      <td>33.3712</td>\n",
       "      <td>24.65</td>\n",
       "    </tr>\n",
       "    <tr>\n",
       "      <th>avg_minutes_per_day</th>\n",
       "      <td>3.72688</td>\n",
       "      <td>9.88448</td>\n",
       "      <td>9.78548</td>\n",
       "      <td>12.2361</td>\n",
       "      <td>7.15645</td>\n",
       "    </tr>\n",
       "    <tr>\n",
       "      <th>pace</th>\n",
       "      <td>8.28484</td>\n",
       "      <td>8.98408</td>\n",
       "      <td>8.63724</td>\n",
       "      <td>8.66371</td>\n",
       "      <td>8.32879</td>\n",
       "    </tr>\n",
       "  </tbody>\n",
       "</table>\n",
       "</div>"
      ],
      "text/plain": [
       "                               0        1        2        3         4\n",
       "month                    2020-01  2020-02  2020-03  2020-04   2020-05\n",
       "total_runs                     8        9       16       11        10\n",
       "cum_runs_month_end             8       17       33       44        54\n",
       "total_distance           13.9452  31.9064  35.1212  42.3702   26.6365\n",
       "cum_distance_month_end   13.9452  45.8516  80.9728  123.343   149.979\n",
       "longest_run_distance     7.44492  13.1025  8.00005  10.3621   6.81633\n",
       "avg_distance_per_run     1.99217  4.55806  2.92676  3.85184   2.95961\n",
       "avg_distance_per_day    0.449844  1.10022  1.13294  1.41234  0.859242\n",
       "total_hours              1.92556   4.7775  5.05583  6.11806    3.6975\n",
       "cum_hours_month_end      1.92556  6.70306  11.7589  17.8769   21.5744\n",
       "longest_run_hours        1.02556  1.92583  1.17278  1.53722  0.996389\n",
       "avg_minutes_per_run      16.5048    40.95  25.2792  33.3712     24.65\n",
       "avg_minutes_per_day      3.72688  9.88448  9.78548  12.2361   7.15645\n",
       "pace                     8.28484  8.98408  8.63724  8.66371   8.32879"
      ]
     },
     "execution_count": 1155,
     "metadata": {},
     "output_type": "execute_result"
    }
   ],
   "source": [
    "# reorder the dataframe's columns by metric (distance, time, etc.)\n",
    "col_order = ['month','total_runs','cum_runs_month_end','total_distance','cum_distance_month_end', \\\n",
    "             'longest_run_distance','avg_distance_per_run','avg_distance_per_day','total_hours', \\\n",
    "             'cum_hours_month_end','longest_run_hours','avg_minutes_per_run','avg_minutes_per_day','pace']\n",
    "\n",
    "df_monthly = df_monthly[col_order]\n",
    "df_monthly.transpose() # easier to view transposed"
   ]
  },
  {
   "cell_type": "markdown",
   "metadata": {},
   "source": [
    "#### we can visualize the above stats. let's look at total distance and pace, for example ####"
   ]
  },
  {
   "cell_type": "code",
   "execution_count": 1159,
   "metadata": {},
   "outputs": [
    {
     "data": {
      "image/png": "[encoded data removed]",
      "text/plain": [
       "<Figure size 576x576 with 2 Axes>"
      ]
     },
     "metadata": {
      "needs_background": "light"
     },
     "output_type": "display_data"
    }
   ],
   "source": [
    "# chart formatting\n",
    "plt.rcParams[\"figure.figsize\"] = (8,8)\n",
    "\n",
    "# chart title\n",
    "plt.title('Total distance and pace per month')\n",
    "\n",
    "# y1 axis\n",
    "df_plot_1['total_distance'].plot(kind='bar')\n",
    "plt.ylim(0, 60)\n",
    "plt.ylabel('Distance Run (Miles)')\n",
    "\n",
    "# y2 axis\n",
    "df_plot_1['pace'].plot(secondary_y=True, color = 'red')\n",
    "plt.ylim(6, 10)\n",
    "plt.ylabel('Pace')\n",
    "\n",
    "# x axis\n",
    "months = df_plot['month']\n",
    "y_pos = np.arange(len(months))\n",
    "plt.xticks(y_pos, months)\n",
    "plt.xlabel('Month')\n",
    "\n",
    "plt.rc('font', size=10)"
   ]
  }
 ],
 "metadata": {
  "kernelspec": {
   "display_name": "Python 3",
   "language": "python",
   "name": "python3"
  },
  "language_info": {
   "codemirror_mode": {
    "name": "ipython",
    "version": 3
   },
   "file_extension": ".py",
   "mimetype": "text/x-python",
   "name": "python",
   "nbconvert_exporter": "python",
   "pygments_lexer": "ipython3",
   "version": "3.7.7"
  }
 },
 "nbformat": 4,
 "nbformat_minor": 4
}
