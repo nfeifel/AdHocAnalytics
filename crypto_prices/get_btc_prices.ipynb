{
 "cells": [
  {
   "cell_type": "code",
   "execution_count": 130,
   "metadata": {},
   "outputs": [],
   "source": [
    "import pandas as pd\n",
    "import requests\n",
    "from datetime import date"
   ]
  },
  {
   "cell_type": "markdown",
   "metadata": {},
   "source": [
    "## construct api endpoint"
   ]
  },
  {
   "cell_type": "code",
   "execution_count": 131,
   "metadata": {},
   "outputs": [
    {
     "name": "stdout",
     "output_type": "stream",
     "text": [
      "https://api.coindesk.com/v1/bpi/historical/close.json?start=2011-01-01&end=2020-12-25\n"
     ]
    }
   ],
   "source": [
    "base = 'https://api.coindesk.com/v1/bpi/historical/close.json?'\n",
    "start_date = '2011-01-01' # 2011 is first year with full year data\n",
    "end_date = str(date.today())\n",
    "url = base + 'start=' + start_date + '&end=' + end_date\n",
    "print(url)"
   ]
  },
  {
   "cell_type": "markdown",
   "metadata": {},
   "source": [
    "## make api call"
   ]
  },
  {
   "cell_type": "code",
   "execution_count": 132,
   "metadata": {},
   "outputs": [],
   "source": [
    "df = pd.read_json(url)"
   ]
  },
  {
   "cell_type": "markdown",
   "metadata": {},
   "source": [
    "## formatting"
   ]
  },
  {
   "cell_type": "code",
   "execution_count": 133,
   "metadata": {
    "scrolled": true
   },
   "outputs": [],
   "source": [
    "df.reset_index(inplace = True)\n",
    "df.drop(columns = ['disclaimer','time'], inplace = True)\n",
    "df.rename(columns = {'index': 'date','bpi': 'price'}, inplace = True)\n",
    "df = df[df['price'].notnull()]\n",
    "df['date'] = pd.to_datetime(df['date'])"
   ]
  },
  {
   "cell_type": "code",
   "execution_count": 134,
   "metadata": {},
   "outputs": [],
   "source": [
    "df['year'] = pd.DatetimeIndex(df['date']).year\n",
    "df['month'] = pd.DatetimeIndex(df['date']).month\n",
    "\n",
    "cols = ['date','year','month','price']\n",
    "df = df[cols]"
   ]
  },
  {
   "cell_type": "code",
   "execution_count": 135,
   "metadata": {},
   "outputs": [
    {
     "data": {
      "text/html": [
       "<div>\n",
       "<style scoped>\n",
       "    .dataframe tbody tr th:only-of-type {\n",
       "        vertical-align: middle;\n",
       "    }\n",
       "\n",
       "    .dataframe tbody tr th {\n",
       "        vertical-align: top;\n",
       "    }\n",
       "\n",
       "    .dataframe thead th {\n",
       "        text-align: right;\n",
       "    }\n",
       "</style>\n",
       "<table border=\"1\" class=\"dataframe\">\n",
       "  <thead>\n",
       "    <tr style=\"text-align: right;\">\n",
       "      <th></th>\n",
       "      <th>date</th>\n",
       "      <th>year</th>\n",
       "      <th>month</th>\n",
       "      <th>price</th>\n",
       "    </tr>\n",
       "  </thead>\n",
       "  <tbody>\n",
       "    <tr>\n",
       "      <th>0</th>\n",
       "      <td>2011-01-01</td>\n",
       "      <td>2011</td>\n",
       "      <td>1</td>\n",
       "      <td>0.300</td>\n",
       "    </tr>\n",
       "    <tr>\n",
       "      <th>1</th>\n",
       "      <td>2011-01-02</td>\n",
       "      <td>2011</td>\n",
       "      <td>1</td>\n",
       "      <td>0.300</td>\n",
       "    </tr>\n",
       "    <tr>\n",
       "      <th>2</th>\n",
       "      <td>2011-01-03</td>\n",
       "      <td>2011</td>\n",
       "      <td>1</td>\n",
       "      <td>0.295</td>\n",
       "    </tr>\n",
       "    <tr>\n",
       "      <th>3</th>\n",
       "      <td>2011-01-04</td>\n",
       "      <td>2011</td>\n",
       "      <td>1</td>\n",
       "      <td>0.299</td>\n",
       "    </tr>\n",
       "    <tr>\n",
       "      <th>4</th>\n",
       "      <td>2011-01-05</td>\n",
       "      <td>2011</td>\n",
       "      <td>1</td>\n",
       "      <td>0.299</td>\n",
       "    </tr>\n",
       "  </tbody>\n",
       "</table>\n",
       "</div>"
      ],
      "text/plain": [
       "        date  year  month  price\n",
       "0 2011-01-01  2011      1  0.300\n",
       "1 2011-01-02  2011      1  0.300\n",
       "2 2011-01-03  2011      1  0.295\n",
       "3 2011-01-04  2011      1  0.299\n",
       "4 2011-01-05  2011      1  0.299"
      ]
     },
     "execution_count": 135,
     "metadata": {},
     "output_type": "execute_result"
    }
   ],
   "source": [
    "df.head()"
   ]
  },
  {
   "cell_type": "code",
   "execution_count": 136,
   "metadata": {},
   "outputs": [
    {
     "data": {
      "text/html": [
       "<div>\n",
       "<style scoped>\n",
       "    .dataframe tbody tr th:only-of-type {\n",
       "        vertical-align: middle;\n",
       "    }\n",
       "\n",
       "    .dataframe tbody tr th {\n",
       "        vertical-align: top;\n",
       "    }\n",
       "\n",
       "    .dataframe thead th {\n",
       "        text-align: right;\n",
       "    }\n",
       "</style>\n",
       "<table border=\"1\" class=\"dataframe\">\n",
       "  <thead>\n",
       "    <tr style=\"text-align: right;\">\n",
       "      <th></th>\n",
       "      <th>date</th>\n",
       "      <th>year</th>\n",
       "      <th>month</th>\n",
       "      <th>price</th>\n",
       "    </tr>\n",
       "  </thead>\n",
       "  <tbody>\n",
       "    <tr>\n",
       "      <th>3641</th>\n",
       "      <td>2020-12-20</td>\n",
       "      <td>2020</td>\n",
       "      <td>12</td>\n",
       "      <td>23458.9967</td>\n",
       "    </tr>\n",
       "    <tr>\n",
       "      <th>3642</th>\n",
       "      <td>2020-12-21</td>\n",
       "      <td>2020</td>\n",
       "      <td>12</td>\n",
       "      <td>22718.2250</td>\n",
       "    </tr>\n",
       "    <tr>\n",
       "      <th>3643</th>\n",
       "      <td>2020-12-22</td>\n",
       "      <td>2020</td>\n",
       "      <td>12</td>\n",
       "      <td>23817.3067</td>\n",
       "    </tr>\n",
       "    <tr>\n",
       "      <th>3644</th>\n",
       "      <td>2020-12-23</td>\n",
       "      <td>2020</td>\n",
       "      <td>12</td>\n",
       "      <td>23229.0133</td>\n",
       "    </tr>\n",
       "    <tr>\n",
       "      <th>3645</th>\n",
       "      <td>2020-12-24</td>\n",
       "      <td>2020</td>\n",
       "      <td>12</td>\n",
       "      <td>23729.6483</td>\n",
       "    </tr>\n",
       "  </tbody>\n",
       "</table>\n",
       "</div>"
      ],
      "text/plain": [
       "           date  year  month       price\n",
       "3641 2020-12-20  2020     12  23458.9967\n",
       "3642 2020-12-21  2020     12  22718.2250\n",
       "3643 2020-12-22  2020     12  23817.3067\n",
       "3644 2020-12-23  2020     12  23229.0133\n",
       "3645 2020-12-24  2020     12  23729.6483"
      ]
     },
     "execution_count": 136,
     "metadata": {},
     "output_type": "execute_result"
    }
   ],
   "source": [
    "df.tail()"
   ]
  },
  {
   "cell_type": "markdown",
   "metadata": {},
   "source": [
    "## create summary table by year\n",
    "* confirm data quality: there is one price record for everyday in each year (excpet 2020, which is still ongoing)\n",
    "* observation: since 2015, every incremental year has a higher min and median price than previous years"
   ]
  },
  {
   "cell_type": "code",
   "execution_count": 137,
   "metadata": {},
   "outputs": [
    {
     "data": {
      "text/html": [
       "<div>\n",
       "<style scoped>\n",
       "    .dataframe tbody tr th:only-of-type {\n",
       "        vertical-align: middle;\n",
       "    }\n",
       "\n",
       "    .dataframe tbody tr th {\n",
       "        vertical-align: top;\n",
       "    }\n",
       "\n",
       "    .dataframe thead th {\n",
       "        text-align: right;\n",
       "    }\n",
       "</style>\n",
       "<table border=\"1\" class=\"dataframe\">\n",
       "  <thead>\n",
       "    <tr style=\"text-align: right;\">\n",
       "      <th></th>\n",
       "      <th>year</th>\n",
       "      <th>price_count</th>\n",
       "      <th>price_max</th>\n",
       "      <th>price_min</th>\n",
       "      <th>price_mean</th>\n",
       "      <th>price_median</th>\n",
       "    </tr>\n",
       "  </thead>\n",
       "  <tbody>\n",
       "    <tr>\n",
       "      <th>0</th>\n",
       "      <td>2011</td>\n",
       "      <td>365</td>\n",
       "      <td>30</td>\n",
       "      <td>0</td>\n",
       "      <td>6</td>\n",
       "      <td>3</td>\n",
       "    </tr>\n",
       "    <tr>\n",
       "      <th>1</th>\n",
       "      <td>2012</td>\n",
       "      <td>366</td>\n",
       "      <td>14</td>\n",
       "      <td>4</td>\n",
       "      <td>8</td>\n",
       "      <td>7</td>\n",
       "    </tr>\n",
       "    <tr>\n",
       "      <th>2</th>\n",
       "      <td>2013</td>\n",
       "      <td>365</td>\n",
       "      <td>1,147</td>\n",
       "      <td>13</td>\n",
       "      <td>189</td>\n",
       "      <td>112</td>\n",
       "    </tr>\n",
       "    <tr>\n",
       "      <th>3</th>\n",
       "      <td>2014</td>\n",
       "      <td>365</td>\n",
       "      <td>951</td>\n",
       "      <td>310</td>\n",
       "      <td>527</td>\n",
       "      <td>502</td>\n",
       "    </tr>\n",
       "    <tr>\n",
       "      <th>4</th>\n",
       "      <td>2015</td>\n",
       "      <td>365</td>\n",
       "      <td>466</td>\n",
       "      <td>177</td>\n",
       "      <td>272</td>\n",
       "      <td>248</td>\n",
       "    </tr>\n",
       "    <tr>\n",
       "      <th>5</th>\n",
       "      <td>2016</td>\n",
       "      <td>366</td>\n",
       "      <td>978</td>\n",
       "      <td>359</td>\n",
       "      <td>567</td>\n",
       "      <td>582</td>\n",
       "    </tr>\n",
       "    <tr>\n",
       "      <th>6</th>\n",
       "      <td>2017</td>\n",
       "      <td>365</td>\n",
       "      <td>19,343</td>\n",
       "      <td>776</td>\n",
       "      <td>3,990</td>\n",
       "      <td>2,594</td>\n",
       "    </tr>\n",
       "    <tr>\n",
       "      <th>7</th>\n",
       "      <td>2018</td>\n",
       "      <td>365</td>\n",
       "      <td>17,136</td>\n",
       "      <td>3,214</td>\n",
       "      <td>7,529</td>\n",
       "      <td>6,896</td>\n",
       "    </tr>\n",
       "    <tr>\n",
       "      <th>8</th>\n",
       "      <td>2019</td>\n",
       "      <td>365</td>\n",
       "      <td>12,907</td>\n",
       "      <td>3,386</td>\n",
       "      <td>7,380</td>\n",
       "      <td>7,807</td>\n",
       "    </tr>\n",
       "    <tr>\n",
       "      <th>9</th>\n",
       "      <td>2020</td>\n",
       "      <td>359</td>\n",
       "      <td>23,835</td>\n",
       "      <td>4,914</td>\n",
       "      <td>10,799</td>\n",
       "      <td>9,668</td>\n",
       "    </tr>\n",
       "  </tbody>\n",
       "</table>\n",
       "</div>"
      ],
      "text/plain": [
       "   year price_count price_max price_min price_mean price_median\n",
       "0  2011         365        30         0          6            3\n",
       "1  2012         366        14         4          8            7\n",
       "2  2013         365     1,147        13        189          112\n",
       "3  2014         365       951       310        527          502\n",
       "4  2015         365       466       177        272          248\n",
       "5  2016         366       978       359        567          582\n",
       "6  2017         365    19,343       776      3,990        2,594\n",
       "7  2018         365    17,136     3,214      7,529        6,896\n",
       "8  2019         365    12,907     3,386      7,380        7,807\n",
       "9  2020         359    23,835     4,914     10,799        9,668"
      ]
     },
     "execution_count": 137,
     "metadata": {},
     "output_type": "execute_result"
    }
   ],
   "source": [
    "# create list of metrics i want to see for bitcoin's price each year\n",
    "metrics = ['count','max','min','mean','median']\n",
    "\n",
    "# create data frame with one row for every year in the bitcoin dataset\n",
    "df_summary = pd.DataFrame(df['year'].unique(), columns = ['year']) \n",
    "\n",
    "# calculate metric for each year\n",
    "for metric in metrics:\n",
    "    metric_txt = \"df.groupby('year')['price'].\" + metric + \"().to_frame('price_\" + metric + \"').reset_index()\"\n",
    "    metric_eval = eval(metric_txt)\n",
    "    metric_eval.iloc[:,1] = metric_eval.iloc[:,1].apply('{:,.0f}'.format)\n",
    "    df_summary = df_summary.merge(metric_eval, how = 'left', left_on = 'year', right_on = 'year')\n",
    "\n",
    "# show summary table\n",
    "df_summary"
   ]
  },
  {
   "cell_type": "code",
   "execution_count": null,
   "metadata": {},
   "outputs": [],
   "source": []
  }
 ],
 "metadata": {
  "kernelspec": {
   "display_name": "Python 3",
   "language": "python",
   "name": "python3"
  },
  "language_info": {
   "codemirror_mode": {
    "name": "ipython",
    "version": 3
   },
   "file_extension": ".py",
   "mimetype": "text/x-python",
   "name": "python",
   "nbconvert_exporter": "python",
   "pygments_lexer": "ipython3",
   "version": "3.7.7"
  }
 },
 "nbformat": 4,
 "nbformat_minor": 4
}
